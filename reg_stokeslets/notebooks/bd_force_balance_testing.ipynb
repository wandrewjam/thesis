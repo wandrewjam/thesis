{
 "cells": [
  {
   "cell_type": "code",
   "execution_count": null,
   "metadata": {},
   "outputs": [],
   "source": [
    "import numpy as np\n",
    "import matplotlib.pyplot as plt\n",
    "from scipy.linalg import solve\n",
    "from motion_integration import (integrate_motion, time_step, eps_picker, find_bond_forces, \n",
    "                                repulsive_force, evaluate_motion_equations)\n",
    "from force_test import assemble_quad_matrix\n",
    "from resistance_matrix_test import generate_resistance_matrices"
   ]
  },
  {
   "cell_type": "code",
   "execution_count": null,
   "metadata": {},
   "outputs": [],
   "source": [
    "def get_tstep_distribution(expt_name):\n",
    "    data_dir = '/Users/andrewwork/thesis/reg_stokeslets/3d/data/'\n",
    "    data = np.load(data_dir + expt_name + '.npz')\n",
    "    diffs = data['t'][1:] - data['t'][:-1]\n",
    "    return np.bincount(np.round(-np.log2(diffs / .002)).astype('int'))"
   ]
  },
  {
   "cell_type": "markdown",
   "metadata": {},
   "source": [
    "### Time steps in the experiments with stiff bonds"
   ]
  },
  {
   "cell_type": "code",
   "execution_count": null,
   "metadata": {},
   "outputs": [],
   "source": [
    "t_steps = get_tstep_distribution('bd_expt089')\n",
    "print(t_steps)"
   ]
  },
  {
   "cell_type": "code",
   "execution_count": null,
   "metadata": {},
   "outputs": [],
   "source": [
    "t_steps2 = get_tstep_distribution('bd_expt092')\n",
    "print(t_steps2)"
   ]
  },
  {
   "cell_type": "markdown",
   "metadata": {},
   "source": [
    "### Forces  and torques in stable configuration"
   ]
  },
  {
   "cell_type": "code",
   "execution_count": null,
   "metadata": {},
   "outputs": [],
   "source": [
    "n_nodes = 8\n",
    "a, b = 1.5, 0.5\n",
    "domain  = 'wall'\n",
    "eps = eps_picker(n_nodes, a, b)\n",
    "precompute_array = None\n",
    "proc = 1\n",
    "shear_vec = True\n",
    "kappa = 25000.\n",
    "lam = 0.1"
   ]
  },
  {
   "cell_type": "code",
   "execution_count": null,
   "metadata": {},
   "outputs": [],
   "source": [
    "data = np.load('data/bd_expt092.npz')\n",
    "ii = np.argwhere((data['t'] >= 0.35) * (data['t'] <= 0.36))[0][0]\n",
    "distance = data['x'][ii]\n",
    "center = np.array([data['x'][ii], data['y'][ii], data['z'][ii]])\n",
    "rmat = data['r_matrices'][..., ii]\n",
    "receptors = data['receptors']\n",
    "bonds = data['bond_array'][..., ii]\n",
    "print(data['t'][ii])\n",
    "print(data['t'][ii-1])"
   ]
  },
  {
   "cell_type": "code",
   "execution_count": null,
   "metadata": {},
   "outputs": [],
   "source": [
    "data['bond_array'][..., ii-2]"
   ]
  },
  {
   "cell_type": "code",
   "execution_count": null,
   "metadata": {},
   "outputs": [],
   "source": [
    "theta = np.arctan2(rmat[2, 0], rmat[1, 0])\n",
    "phi = np.arccos(rmat[0, 0])"
   ]
  },
  {
   "cell_type": "code",
   "execution_count": null,
   "metadata": {},
   "outputs": [],
   "source": [
    "result = generate_resistance_matrices(\n",
    "    eps, n_nodes, a, b, domain, distance, theta, \n",
    "    phi, shear_vec, proc, precompute_array\n",
    ")\n",
    "\n",
    "t_matrix, p_matrix, pt_matrix, r_matrix, shear_f, shear_t = result\n",
    "res_matrix = np.block([[t_matrix, p_matrix], [pt_matrix, r_matrix]])"
   ]
  },
  {
   "cell_type": "code",
   "execution_count": null,
   "metadata": {},
   "outputs": [],
   "source": [
    "bd_forces, bd_torques = find_bond_forces(receptors, bonds, center, rmat, kappa, lam, one_side=True)\n",
    "point, rep_force = repulsive_force(center[0], rmat[:, 0])\n",
    "point = np.array([point[0], point[1] + center[1], point[2] + center[2]])\n",
    "rep_forces = np.array([rep_force, 0, 0])\n",
    "rep_torques = np.cross([point[0] - center[0], point[1], point[2]],\n",
    "                        [rep_force, 0, 0])\n",
    "forces, torques = rep_forces + bd_forces, rep_torques + bd_torques"
   ]
  },
  {
   "cell_type": "code",
   "execution_count": null,
   "metadata": {},
   "outputs": [],
   "source": [
    "print(bd_forces)\n",
    "print(bd_torques)"
   ]
  },
  {
   "cell_type": "code",
   "execution_count": null,
   "metadata": {},
   "outputs": [],
   "source": [
    "gen_forces = np.block([[shear_f - forces.reshape((3, 1))], \n",
    "                       [shear_t - torques.reshape((3, 1))]])\n",
    "gen_vels = np.linalg.solve(res_matrix, -gen_forces)\n",
    "trans_vels, rot_vels = np.squeeze(gen_vels[:3]), np.squeeze(gen_vels[3:])"
   ]
  },
  {
   "cell_type": "code",
   "execution_count": null,
   "metadata": {},
   "outputs": [],
   "source": [
    "print(gen_forces.T)\n",
    "print(trans_vels)\n",
    "print(rot_vels)"
   ]
  },
  {
   "cell_type": "code",
   "execution_count": null,
   "metadata": {},
   "outputs": [],
   "source": [
    "print(np.dot(res_matrix, gen_vels)[3:] + shear_t \n",
    "      + np.cross((np.dot(res_matrix, gen_vels)[:3] + shear_f).T, point - center).T)\n",
    "\n",
    "print(bd_torques + np.cross(bd_forces, point - center))"
   ]
  },
  {
   "cell_type": "code",
   "execution_count": null,
   "metadata": {},
   "outputs": [],
   "source": [
    "point - center"
   ]
  },
  {
   "cell_type": "code",
   "execution_count": null,
   "metadata": {},
   "outputs": [],
   "source": [
    "print(forces - shear_f.T)\n",
    "print(torques - shear_t.T)"
   ]
  },
  {
   "cell_type": "code",
   "execution_count": null,
   "metadata": {},
   "outputs": [],
   "source": [
    "print(t_matrix)"
   ]
  },
  {
   "cell_type": "code",
   "execution_count": null,
   "metadata": {},
   "outputs": [],
   "source": [
    "shear_t"
   ]
  },
  {
   "cell_type": "code",
   "execution_count": null,
   "metadata": {},
   "outputs": [],
   "source": [
    "np.dot(res_matrix, gen_vels) + gen_forces"
   ]
  },
  {
   "cell_type": "code",
   "execution_count": null,
   "metadata": {},
   "outputs": [],
   "source": []
  }
 ],
 "metadata": {
  "kernelspec": {
   "display_name": "Python 3",
   "language": "python",
   "name": "python3"
  },
  "language_info": {
   "codemirror_mode": {
    "name": "ipython",
    "version": 3
   },
   "file_extension": ".py",
   "mimetype": "text/x-python",
   "name": "python",
   "nbconvert_exporter": "python",
   "pygments_lexer": "ipython3",
   "version": "3.9.1"
  }
 },
 "nbformat": 4,
 "nbformat_minor": 4
}
