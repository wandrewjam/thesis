{
 "cells": [
  {
   "cell_type": "code",
   "execution_count": 1,
   "metadata": {},
   "outputs": [],
   "source": [
    "import numpy as np\n",
    "import matplotlib.pyplot as plt\n",
    "from scipy.linalg import solve\n",
    "from motion_integration import (integrate_motion, time_step, eps_picker, find_bond_forces, \n",
    "                                repulsive_force, evaluate_motion_equations)\n",
    "from force_test import assemble_quad_matrix\n",
    "from resistance_matrix_test import generate_resistance_matrices"
   ]
  },
  {
   "cell_type": "code",
   "execution_count": 2,
   "metadata": {},
   "outputs": [],
   "source": [
    "def get_tstep_distribution(expt_name):\n",
    "    data_dir = '/Users/andrewwork/thesis/reg_stokeslets/3d/data/'\n",
    "    data = np.load(data_dir + expt_name + '.npz')\n",
    "    diffs = data['t'][1:] - data['t'][:-1]\n",
    "    return np.bincount(np.round(-np.log2(diffs / .002)).astype('int'))"
   ]
  },
  {
   "cell_type": "markdown",
   "metadata": {},
   "source": [
    "### Time steps in the experiments with stiff bonds"
   ]
  },
  {
   "cell_type": "code",
   "execution_count": 3,
   "metadata": {},
   "outputs": [
    {
     "name": "stdout",
     "output_type": "stream",
     "text": [
      "[183  14  38  91 161 657 423 223  22  25  41  10]\n"
     ]
    }
   ],
   "source": [
    "t_steps = get_tstep_distribution('bd_expt089')\n",
    "print(t_steps)"
   ]
  },
  {
   "cell_type": "code",
   "execution_count": 4,
   "metadata": {},
   "outputs": [
    {
     "name": "stdout",
     "output_type": "stream",
     "text": [
      "[170  17  70 158 226 502 262  43   1   2]\n"
     ]
    }
   ],
   "source": [
    "t_steps2 = get_tstep_distribution('bd_expt092')\n",
    "print(t_steps2)"
   ]
  },
  {
   "cell_type": "markdown",
   "metadata": {},
   "source": [
    "### Forces  and torques in stable configuration"
   ]
  },
  {
   "cell_type": "code",
   "execution_count": 5,
   "metadata": {},
   "outputs": [],
   "source": [
    "n_nodes = 8\n",
    "a, b = 1.5, 0.5\n",
    "domain  = 'wall'\n",
    "eps = eps_picker(n_nodes, a, b)\n",
    "precompute_array = None\n",
    "proc = 1\n",
    "shear_vec = True\n",
    "kappa = 25000.\n",
    "lam = 0.1"
   ]
  },
  {
   "cell_type": "code",
   "execution_count": 6,
   "metadata": {},
   "outputs": [
    {
     "name": "stdout",
     "output_type": "stream",
     "text": [
      "0.35049999999999953\n",
      "0.3499999999999996\n"
     ]
    }
   ],
   "source": [
    "data = np.load('data/bd_expt092.npz')\n",
    "ii = np.argwhere((data['t'] >= 0.35) * (data['t'] <= 0.36))[0][0]\n",
    "distance = data['x'][ii]\n",
    "center = np.array([data['x'][ii], data['y'][ii], data['z'][ii]])\n",
    "rmat = data['r_matrices'][..., ii]\n",
    "receptors = data['receptors']\n",
    "bonds = data['bond_array'][..., ii]\n",
    "print(data['t'][ii])\n",
    "print(data['t'][ii-1])"
   ]
  },
  {
   "cell_type": "code",
   "execution_count": 7,
   "metadata": {},
   "outputs": [
    {
     "data": {
      "text/plain": [
       "array([[ 5.76000000e+02, -1.00000000e-01,  3.18235818e+01]])"
      ]
     },
     "execution_count": 7,
     "metadata": {},
     "output_type": "execute_result"
    }
   ],
   "source": [
    "data['bond_array'][..., ii-2]"
   ]
  },
  {
   "cell_type": "code",
   "execution_count": 8,
   "metadata": {},
   "outputs": [],
   "source": [
    "theta = np.arctan2(rmat[2, 0], rmat[1, 0])\n",
    "phi = np.arccos(rmat[0, 0])"
   ]
  },
  {
   "cell_type": "code",
   "execution_count": 9,
   "metadata": {},
   "outputs": [
    {
     "name": "stdout",
     "output_type": "stream",
     "text": [
      "Assembling quadrature matrix for eps = 0.1261902586321847, nodes = 8\n",
      "Solving for forces for eps = 0.1261902586321847, nodes = 8\n",
      "Finished eps=0.1261902586321847, n_nodes=8\n"
     ]
    }
   ],
   "source": [
    "result = generate_resistance_matrices(\n",
    "    eps, n_nodes, a, b, domain, distance, theta, \n",
    "    phi, shear_vec, proc, precompute_array\n",
    ")\n",
    "\n",
    "t_matrix, p_matrix, pt_matrix, r_matrix, shear_f, shear_t = result\n",
    "res_matrix = np.block([[t_matrix, p_matrix], [pt_matrix, r_matrix]])"
   ]
  },
  {
   "cell_type": "code",
   "execution_count": 10,
   "metadata": {},
   "outputs": [],
   "source": [
    "bd_forces, bd_torques = find_bond_forces(receptors, bonds, center, rmat, kappa, lam, one_side=True)\n",
    "point, rep_force = repulsive_force(center[0], rmat[:, 0])\n",
    "point = np.array([point[0], point[1] + center[1], point[2] + center[2]])\n",
    "rep_forces = np.array([rep_force, 0, 0])\n",
    "rep_torques = np.cross([point[0] - center[0], point[1], point[2]],\n",
    "                        [rep_force, 0, 0])\n",
    "forces, torques = rep_forces + bd_forces, rep_torques + bd_torques"
   ]
  },
  {
   "cell_type": "code",
   "execution_count": 11,
   "metadata": {},
   "outputs": [
    {
     "name": "stdout",
     "output_type": "stream",
     "text": [
      "[-4.08577535e+02 -9.46426842e-02 -4.81242980e+01]\n",
      "[ 4.63569260e-02  3.71075454e+02 -1.12334055e+00]\n"
     ]
    }
   ],
   "source": [
    "print(bd_forces)\n",
    "print(bd_torques)"
   ]
  },
  {
   "cell_type": "code",
   "execution_count": 12,
   "metadata": {},
   "outputs": [],
   "source": [
    "gen_forces = np.block([[shear_f - forces.reshape((3, 1))], \n",
    "                       [shear_t - torques.reshape((3, 1))]])\n",
    "gen_vels = np.linalg.solve(res_matrix, -gen_forces)\n",
    "trans_vels, rot_vels = np.squeeze(gen_vels[:3]), np.squeeze(gen_vels[3:])"
   ]
  },
  {
   "cell_type": "code",
   "execution_count": 13,
   "metadata": {},
   "outputs": [
    {
     "name": "stdout",
     "output_type": "stream",
     "text": [
      "[[-3.94296613e+02  6.79025948e-02 -4.53004149e-01 -7.41672854e-02\n",
      "  -2.63466059e+04 -7.98016382e+01]]\n",
      "[ 1.49143017e+02  1.48607645e-01 -7.07301683e+01]\n",
      "[  0.25036164 184.50581791   0.52867516]\n"
     ]
    }
   ],
   "source": [
    "print(gen_forces.T)\n",
    "print(trans_vels)\n",
    "print(rot_vels)"
   ]
  },
  {
   "cell_type": "code",
   "execution_count": 14,
   "metadata": {},
   "outputs": [
    {
     "name": "stdout",
     "output_type": "stream",
     "text": [
      "[[-4.96448348e-03]\n",
      " [ 2.67634219e+04]\n",
      " [ 7.85839817e+01]]\n",
      "[-4.96448348e-03  8.44488721e+01 -1.23930982e-01]\n"
     ]
    }
   ],
   "source": [
    "print(np.dot(res_matrix, gen_vels)[3:] + shear_t \n",
    "      + np.cross((np.dot(res_matrix, gen_vels)[:3] + shear_f).T, point - center).T)\n",
    "\n",
    "print(bd_torques + np.cross(bd_forces, point - center))"
   ]
  },
  {
   "cell_type": "code",
   "execution_count": 15,
   "metadata": {},
   "outputs": [
    {
     "data": {
      "text/plain": [
       "array([-1.1731818 , -0.00271783, -0.83970631])"
      ]
     },
     "execution_count": 15,
     "metadata": {},
     "output_type": "execute_result"
    }
   ],
   "source": [
    "point - center"
   ]
  },
  {
   "cell_type": "code",
   "execution_count": 16,
   "metadata": {},
   "outputs": [
    {
     "name": "stdout",
     "output_type": "stream",
     "text": [
      "[[ 3.94296613e+02 -6.79025948e-02  4.53004149e-01]]\n",
      "[[7.41672854e-02 2.63466059e+04 7.98016382e+01]]\n"
     ]
    }
   ],
   "source": [
    "print(forces - shear_f.T)\n",
    "print(torques - shear_t.T)"
   ]
  },
  {
   "cell_type": "code",
   "execution_count": 17,
   "metadata": {},
   "outputs": [
    {
     "name": "stdout",
     "output_type": "stream",
     "text": [
      "[[ 3.10921257e+03 -3.69812207e-02 -1.14258103e+01]\n",
      " [-3.69812207e-02  8.17973784e+01  6.29858127e-02]\n",
      " [-1.14258103e+01  6.29858127e-02  1.01257428e+02]]\n"
     ]
    }
   ],
   "source": [
    "print(t_matrix)"
   ]
  },
  {
   "cell_type": "code",
   "execution_count": 18,
   "metadata": {},
   "outputs": [
    {
     "data": {
      "text/plain": [
       "array([[-2.78103594e-02],\n",
       "       [ 2.19202075e+01],\n",
       "       [-1.12243341e-02]])"
      ]
     },
     "execution_count": 18,
     "metadata": {},
     "output_type": "execute_result"
    }
   ],
   "source": [
    "shear_t"
   ]
  },
  {
   "cell_type": "code",
   "execution_count": 19,
   "metadata": {},
   "outputs": [
    {
     "data": {
      "text/plain": [
       "array([[-2.38742359e-11],\n",
       "       [ 2.08166817e-16],\n",
       "       [-9.59232693e-13],\n",
       "       [-2.30371278e-15],\n",
       "       [-6.54836185e-11],\n",
       "       [ 4.83169060e-13]])"
      ]
     },
     "execution_count": 19,
     "metadata": {},
     "output_type": "execute_result"
    }
   ],
   "source": [
    "np.dot(res_matrix, gen_vels) + gen_forces"
   ]
  },
  {
   "cell_type": "code",
   "execution_count": null,
   "metadata": {},
   "outputs": [],
   "source": []
  }
 ],
 "metadata": {
  "kernelspec": {
   "display_name": "Python 3",
   "language": "python",
   "name": "python3"
  },
  "language_info": {
   "codemirror_mode": {
    "name": "ipython",
    "version": 3
   },
   "file_extension": ".py",
   "mimetype": "text/x-python",
   "name": "python",
   "nbconvert_exporter": "python",
   "pygments_lexer": "ipython3",
   "version": "3.9.1"
  }
 },
 "nbformat": 4,
 "nbformat_minor": 4
}
