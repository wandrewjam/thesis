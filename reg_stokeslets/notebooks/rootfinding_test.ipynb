{
 "cells": [
  {
   "cell_type": "code",
   "execution_count": null,
   "metadata": {},
   "outputs": [],
   "source": [
    "import numpy as np\n",
    "from scipy.integrate import solve_ivp\n",
    "import matplotlib.pyplot as plt\n",
    "from os import path\n",
    "import sys"
   ]
  },
  {
   "cell_type": "code",
   "execution_count": null,
   "metadata": {},
   "outputs": [],
   "source": [
    "sys.path.append(path.abspath('../src/3d/'))"
   ]
  },
  {
   "cell_type": "code",
   "execution_count": null,
   "metadata": {},
   "outputs": [],
   "source": [
    "from motion_integration import (integrate_motion, evaluate_motion_equations, \n",
    "                                nondimensionalize, get_bond_lengths, \n",
    "                                find_bond_forces, repulsive_force)\n",
    "from continue_int import continue_integration\n",
    "from binding_expt import parse_file\n",
    "from timeit import default_timer as timer"
   ]
  },
  {
   "cell_type": "code",
   "execution_count": null,
   "metadata": {},
   "outputs": [],
   "source": [
    "with np.load('../data/bd_run/bd_run070.npz') as data:\n",
    "    t_dat = data['t']\n",
    "    x_dat, y_dat, z_dat = data['x'], data['y'], data['z']\n",
    "    rmat_dat = data['r_matrices']\n",
    "    receptors = data['receptors']\n",
    "    ba_dat = data['bond_array']"
   ]
  },
  {
   "cell_type": "code",
   "execution_count": null,
   "metadata": {},
   "outputs": [],
   "source": [
    "pars = parse_file('bd_run070')\n",
    "a, b = pars['a'], pars['b']\n",
    "n_nodes = pars['n_nodes']\n",
    "adaptive = pars['adaptive']\n",
    "domain = 'wall'\n",
    "proc = 1\n",
    "del pars['filename']\n",
    "del pars['seed']\n",
    "del pars['t_start']\n",
    "del pars['t_end']\n",
    "del pars['num_steps']\n",
    "del pars['n_nodes']\n",
    "del pars['a']\n",
    "del pars['b']\n",
    "del pars['adaptive']\n",
    "del pars['one_side']\n",
    "del pars['check_bonds']\n",
    "t_sc, f_sc, lam, k0_on, k0_off, eta, eta_ts, kappa = nondimensionalize(l_scale=1, mu=4e-3, temp=310., **pars)"
   ]
  },
  {
   "cell_type": "code",
   "execution_count": null,
   "metadata": {},
   "outputs": [],
   "source": [
    "def find_forces(i):\n",
    "    rmat = rmat_dat[..., i]\n",
    "    true_receptors = np.dot(receptors, rmat.T)\n",
    "    x1, x2, x3 = x_dat[i], y_dat[i], z_dat[i]\n",
    "    true_receptors += np.array([[x1, x2, x3]])\n",
    "\n",
    "    bond_list = [row for row in ba_dat[..., i] if row[0] > -1]\n",
    "    get_bond_lengths(bond_list, true_receptors)\n",
    "\n",
    "    center = np.array([x1, x2, x3])\n",
    "    return find_bond_forces(receptors, bond_list, center, rmat, kappa, lam)"
   ]
  },
  {
   "cell_type": "code",
   "execution_count": null,
   "metadata": {},
   "outputs": [],
   "source": [
    "i_start = np.nonzero(t_dat > .139999)[0][0]"
   ]
  },
  {
   "cell_type": "code",
   "execution_count": null,
   "metadata": {},
   "outputs": [],
   "source": [
    "forces, torques = find_forces(i_start)"
   ]
  },
  {
   "cell_type": "code",
   "execution_count": null,
   "metadata": {},
   "outputs": [],
   "source": [
    "bonds = ba_dat[..., i_start]"
   ]
  },
  {
   "cell_type": "code",
   "execution_count": null,
   "metadata": {},
   "outputs": [],
   "source": [
    "def exact_vels(em):\n",
    "    return np.zeros(6)"
   ]
  },
  {
   "cell_type": "code",
   "execution_count": null,
   "metadata": {},
   "outputs": [],
   "source": [
    "a, b = 1.5, 0.5"
   ]
  },
  {
   "cell_type": "code",
   "execution_count": null,
   "metadata": {},
   "outputs": [],
   "source": [
    "def fun(t, y):\n",
    "    center = y[:3]\n",
    "    rmat = y[3:].reshape((3, 3))\n",
    "    forces, torques = find_bond_forces(receptors, bonds, center, rmat, kappa, lam, one_side=True)\n",
    "    point, rep_force = repulsive_force(center[0], rmat[:, 0])\n",
    "    forces += np.array([rep_force, 0, 0])\n",
    "    torques += np.cross([point[0] - center[0], point[1], point[2]],\n",
    "                        [rep_force, 0, 0])\n",
    "    result = evaluate_motion_equations(\n",
    "        center[0], rmat[:, 0], forces, torques, exact_vels, a=a, b=b, n_nodes=n_nodes, \n",
    "        domain=domain, proc=proc)\n",
    "    drmat = np.cross(result[3:6], rmat, axisb=0, axisc=0)\n",
    "    dy = np.concatenate((result[:3], drmat.reshape((9,))))\n",
    "    return dy"
   ]
  },
  {
   "cell_type": "code",
   "execution_count": null,
   "metadata": {},
   "outputs": [],
   "source": [
    "center0 = np.array([x_dat[i_start], y_dat[i_start], z_dat[i_start]])\n",
    "y0 = np.concatenate((center0, rmat_dat[..., i_start].reshape((9,))))"
   ]
  },
  {
   "cell_type": "code",
   "execution_count": null,
   "metadata": {},
   "outputs": [],
   "source": [
    "t_dat[i_start:i_start+30]"
   ]
  },
  {
   "cell_type": "code",
   "execution_count": null,
   "metadata": {},
   "outputs": [],
   "source": [
    "t_span = (t_dat[i_start], 0.154)\n",
    "print(t_span)"
   ]
  },
  {
   "cell_type": "code",
   "execution_count": null,
   "metadata": {},
   "outputs": [],
   "source": [
    "evaluate_motion_equations.counter = 0\n",
    "start1 = timer()\n",
    "sol = solve_ivp(fun, t_span, y0, method='Radau', dense_output=True, t_eval=np.linspace(0.142, 0.154, 7))\n",
    "end1 = timer()"
   ]
  },
  {
   "cell_type": "code",
   "execution_count": null,
   "metadata": {},
   "outputs": [],
   "source": [
    "evaluate_motion_equations.counter"
   ]
  },
  {
   "cell_type": "code",
   "execution_count": null,
   "metadata": {},
   "outputs": [],
   "source": [
    "evaluate_motion_equations.counter = 0\n",
    "start2 = timer()\n",
    "continue_integration('bd_run070', 0.154, i_start)\n",
    "end2 = timer()"
   ]
  },
  {
   "cell_type": "code",
   "execution_count": null,
   "metadata": {},
   "outputs": [],
   "source": [
    "plt.plot(t_dat[i_start:i_start+210], sol.sol(t_dat[i_start:i_start+210])[2])\n",
    "plt.plot(t_dat[i_start:i_start+210], z_dat[i_start:i_start+210])"
   ]
  },
  {
   "cell_type": "code",
   "execution_count": null,
   "metadata": {},
   "outputs": [],
   "source": [
    "print(evaluate_motion_equations.counter)\n",
    "print(end1 - start1)\n",
    "print(end2 - start2)"
   ]
  },
  {
   "cell_type": "code",
   "execution_count": null,
   "metadata": {},
   "outputs": [],
   "source": []
  }
 ],
 "metadata": {
  "kernelspec": {
   "display_name": "Python 3",
   "language": "python",
   "name": "python3"
  },
  "language_info": {
   "codemirror_mode": {
    "name": "ipython",
    "version": 3
   },
   "file_extension": ".py",
   "mimetype": "text/x-python",
   "name": "python",
   "nbconvert_exporter": "python",
   "pygments_lexer": "ipython3",
   "version": "3.9.1"
  }
 },
 "nbformat": 4,
 "nbformat_minor": 4
}
