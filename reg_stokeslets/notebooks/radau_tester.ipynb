{
 "cells": [
  {
   "cell_type": "markdown",
   "metadata": {},
   "source": [
    "## Import the required modules"
   ]
  },
  {
   "cell_type": "code",
   "execution_count": null,
   "metadata": {},
   "outputs": [],
   "source": [
    "import numpy as np\n",
    "import matplotlib.pyplot as plt\n",
    "from scipy.integrate import solve_ivp\n",
    "from os import path\n",
    "from timeit import default_timer as timer\n",
    "import sys"
   ]
  },
  {
   "cell_type": "code",
   "execution_count": null,
   "metadata": {},
   "outputs": [],
   "source": [
    "sys.path.append(path.abspath('../src/3d/'))"
   ]
  },
  {
   "cell_type": "code",
   "execution_count": null,
   "metadata": {},
   "outputs": [],
   "source": [
    "from motion_integration import integrate_motion, evaluate_motion_equations, matrix_to_angles, angles_to_matrix, nondimensionalize\n",
    "from binding_expt import parse_file"
   ]
  },
  {
   "cell_type": "markdown",
   "metadata": {},
   "source": [
    "## Initialize global variables"
   ]
  },
  {
   "cell_type": "code",
   "execution_count": null,
   "metadata": {},
   "outputs": [],
   "source": [
    "t_span = (0, 50)\n",
    "n_steps = 250\n",
    "init = np.array([1.2, 0, 0, 1., 0, 0])\n",
    "domain='wall'"
   ]
  },
  {
   "cell_type": "code",
   "execution_count": null,
   "metadata": {},
   "outputs": [],
   "source": [
    "def exact_vels(em):\n",
    "    v = np.zeros((6,))\n",
    "    v[4] = -1\n",
    "    return v"
   ]
  },
  {
   "cell_type": "markdown",
   "metadata": {},
   "source": [
    "### Run the RK integrator for a free platelet"
   ]
  },
  {
   "cell_type": "code",
   "execution_count": null,
   "metadata": {},
   "outputs": [],
   "source": [
    "n_nodes = 8\n",
    "order = 'radau'\n",
    "adaptive = False"
   ]
  },
  {
   "cell_type": "code",
   "execution_count": null,
   "metadata": {},
   "outputs": [],
   "source": [
    "evaluate_motion_equations.counter = 0\n",
    "start_r = timer()\n",
    "result_r = integrate_motion(t_span, n_steps, init, exact_vels, n_nodes=n_nodes, order=order,\n",
    "                            adaptive=adaptive, a=1.5, b=0.5, domain=domain)\n",
    "end_r = timer()"
   ]
  },
  {
   "cell_type": "code",
   "execution_count": null,
   "metadata": {},
   "outputs": [],
   "source": [
    "x1r, x2r, x3r, r_matricesr, errsr = result_r[:5]\n",
    "tr = result_r[9]\n",
    "count_r = evaluate_motion_equations.counter"
   ]
  },
  {
   "cell_type": "markdown",
   "metadata": {},
   "source": [
    "### Run the explicit integrator for a free platelet"
   ]
  },
  {
   "cell_type": "code",
   "execution_count": null,
   "metadata": {},
   "outputs": [],
   "source": [
    "n_nodes = 8\n",
    "order = '2nd'\n",
    "adaptive = False"
   ]
  },
  {
   "cell_type": "code",
   "execution_count": null,
   "metadata": {},
   "outputs": [],
   "source": [
    "evaluate_motion_equations.counter = 0\n",
    "start_e = timer()\n",
    "result_e = integrate_motion(t_span, n_steps, init, exact_vels, n_nodes=n_nodes, order=order,\n",
    "                            adaptive=adaptive, a=1.5, b=0.5, domain=domain)\n",
    "end_e = timer()"
   ]
  },
  {
   "cell_type": "code",
   "execution_count": null,
   "metadata": {},
   "outputs": [],
   "source": [
    "x1e, x2e, x3e, r_matricese, errse = result_e[:5]\n",
    "te = result_e[9]\n",
    "count_e = evaluate_motion_equations.counter"
   ]
  },
  {
   "cell_type": "markdown",
   "metadata": {},
   "source": [
    "### Run an explicit RK without checkpointing"
   ]
  },
  {
   "cell_type": "code",
   "execution_count": null,
   "metadata": {},
   "outputs": [],
   "source": [
    "n_nodes = 8\n",
    "r_hat = np.array([[0, 1, 0], [0, 0, -1], [-1, 0, 0]])\n",
    "r_matrix = np.eye(3)\n",
    "x1, x2, x3 = init[:3]\n",
    "b_matrix = np.dot(r_matrix, r_hat.T)\n",
    "angles = matrix_to_angles(r_hat)\n",
    "a, b = 1.5, 0.5"
   ]
  },
  {
   "cell_type": "code",
   "execution_count": null,
   "metadata": {},
   "outputs": [],
   "source": [
    "def fun(t, y, b_matrix):\n",
    "    func_center = y[:3]\n",
    "    fun_angles = y[3:]\n",
    "\n",
    "    r_hat_tmp = angles_to_matrix(fun_angles)\n",
    "    rmat_temp = np.dot(b_matrix, r_hat_tmp)\n",
    "\n",
    "    func_forces, func_torques = np.zeros((3,)), np.zeros((3,))\n",
    "    # func_point, func_rep_force = repulsive_force(func_center[0], rmat_temp[:, 0])\n",
    "    # func_forces += np.array([func_rep_force, 0, 0])\n",
    "    # func_torques += np.cross(\n",
    "    #     [func_point[0] - func_center[0], func_point[1], func_point[2]],\n",
    "    #     [func_rep_force, 0, 0])\n",
    "\n",
    "    func_result = evaluate_motion_equations(\n",
    "        func_center[0], rmat_temp[:, 0], func_forces, func_torques, exact_vels, a=a, b=b, n_nodes=n_nodes,\n",
    "        domain=domain, proc=1)\n",
    "    d_rmat = np.cross(func_result[3:6], rmat_temp, axisb=0, axisc=0)\n",
    "    d_rm_hat = np.linalg.solve(b_matrix, d_rmat)\n",
    "    s1, s2, s3 = np.sin(fun_angles)\n",
    "    c1, c2, c3 = np.cos(fun_angles)\n",
    "    d_beta = d_rm_hat[1, 0] / c2\n",
    "    d_alpha = (d_rm_hat[0, 0] + c1 * s2 * d_beta) / (-s1 * c2)\n",
    "    d_gamma = (d_rm_hat[1, 1] + s2 * c2 * d_beta) / (-c2 * s3)\n",
    "    dy = np.concatenate((func_result[:3], [d_alpha], [d_beta], [d_gamma]))\n",
    "    return dy"
   ]
  },
  {
   "cell_type": "code",
   "execution_count": null,
   "metadata": {},
   "outputs": [],
   "source": [
    "center = np.array([x1, x2, x3])\n",
    "y0 = np.concatenate((center, angles))\n",
    "t_current = t_span[0]\n",
    "sol_list = []\n",
    "b_matrices = [b_matrix]\n",
    "evaluate_motion_equations.counter = 0"
   ]
  },
  {
   "cell_type": "code",
   "execution_count": null,
   "metadata": {},
   "outputs": [],
   "source": [
    "def event1(t, y):\n",
    "    return np.abs(y[4]) - np.pi / 2 + np.pi / 16\n",
    "def event2(t, y):\n",
    "    return np.abs(y[3]) - np.pi + np.pi / 16\n",
    "def event3(t, y):\n",
    "    return np.abs(y[5]) - np.pi + np.pi / 16\n",
    "\n",
    "events = [event1, event2, event3]\n",
    "for e in events:\n",
    "    e.terminal = 1"
   ]
  },
  {
   "cell_type": "code",
   "execution_count": null,
   "metadata": {},
   "outputs": [],
   "source": [
    "# start = timer()\n",
    "# while True:\n",
    "#     def ivp_fun(t, y):\n",
    "#         return fun(t, y, b_matrix)\n",
    "    \n",
    "#     sol = solve_ivp(ivp_fun, (t_current, t_span[1]), y0, events=events)\n",
    "#     sol_list.append(sol)\n",
    "    \n",
    "#     print(sol.status)\n",
    "    \n",
    "#     if sol.status == 0:\n",
    "#         break\n",
    "    \n",
    "#     rmat_hat = angles_to_matrix(sol.y[3:, -1])\n",
    "#     r_matrix = np.dot(b_matrix, rmat_hat)\n",
    "#     b_matrix = np.dot(r_matrix, r_hat.T)\n",
    "#     b_matrices.append(b_matrix)\n",
    "#     y0 = np.concatenate((sol.y[:3, -1], matrix_to_angles(r_hat)))\n",
    "#     t_current = sol.t[-1]\n",
    "# end = timer()"
   ]
  },
  {
   "cell_type": "code",
   "execution_count": null,
   "metadata": {},
   "outputs": [],
   "source": [
    "# t_list = [sol_list[0].t[0, None]]\n",
    "# center_list = [sol_list[0].y[:3, 0, None]]\n",
    "# rmat_list = [np.dot(b_matrices[0], angles_to_matrix(sol_list[0].y[3:, 0]))]\n",
    "# for sol, bmat in zip(sol_list, b_matrices):\n",
    "#     t_list.append(sol.t[1:])\n",
    "#     center_list.append(sol.y[:3, 1:])\n",
    "#     for angles in sol.y[3:, 1:].T:\n",
    "#         print(angles)\n",
    "#         rmat_hat = angles_to_matrix(angles)\n",
    "#         rmat_list.append(np.dot(bmat, rmat_hat))"
   ]
  },
  {
   "cell_type": "code",
   "execution_count": null,
   "metadata": {},
   "outputs": [],
   "source": [
    "# np.stack(rmat_list, axis=-1).shape"
   ]
  },
  {
   "cell_type": "code",
   "execution_count": null,
   "metadata": {},
   "outputs": [],
   "source": [
    "# t = np.concatenate(t_list)\n",
    "# center = np.concatenate(center_list, axis=-1)\n",
    "# r_matrices = np.stack(rmat_list, axis=-1)\n",
    "# count = evaluate_motion_equations.counter\n",
    "\n",
    "# print(t.shape, center.shape, r_matrices.shape)"
   ]
  },
  {
   "cell_type": "code",
   "execution_count": null,
   "metadata": {},
   "outputs": [],
   "source": [
    "# print(sol.nfev, sol.njev)"
   ]
  },
  {
   "cell_type": "code",
   "execution_count": null,
   "metadata": {},
   "outputs": [],
   "source": [
    "fig, ax = plt.subplots()\n",
    "# ax.plot(t, r_matrices[0, 0, :], color='C0')\n",
    "ax.plot(tr, r_matricesr[0, 0, :], color='C1')\n",
    "ax.plot(te, r_matricese[0, 0, :], color='C2')\n",
    "# ax.plot(t, r_matrices[2, 0, :], color='C0', linestyle='--')\n",
    "ax.plot(tr, r_matricesr[2, 0, :], color='C1', linestyle='--')\n",
    "ax.plot(te, r_matricese[2, 0, :], color='C2', linestyle='--')\n",
    "plt.legend(['Runge-Kutta, version 1', 'Old explicit method'])\n",
    "plt.xlabel('Time (nondimensional)')\n",
    "plt.ylabel('$x$ or $z$ component of $e_m$')\n",
    "plt.savefig(path.expanduser('~/Desktop/xz_cmps.png'), bbox_inches='tight')\n",
    "plt.show()"
   ]
  },
  {
   "cell_type": "code",
   "execution_count": null,
   "metadata": {},
   "outputs": [],
   "source": [
    "# plt.plot(t, r_matrices[1, 0, :])\n",
    "plt.plot(tr, r_matricesr[1, 0, :])\n",
    "plt.plot(te, r_matricese[1, 0, :])\n",
    "plt.legend(['Runge-Kutta, version 1', 'Old explicit method'])\n",
    "plt.xlabel('Time (nondimensional)')\n",
    "plt.ylabel('$y$ component of $e_m$')\n",
    "plt.savefig(path.expanduser('~/Desktop/y_cmps.png'), bbox_inches='tight')\n",
    "plt.show()"
   ]
  },
  {
   "cell_type": "code",
   "execution_count": null,
   "metadata": {},
   "outputs": [],
   "source": [
    "# plt.plot(t, center[0])\n",
    "plt.plot(tr, x1r)\n",
    "plt.plot(te, x1e)\n",
    "plt.legend(['Runge-Kutta, version 1', 'Old explicit method'])\n",
    "plt.savefig(path.expanduser('~/Desktop/x_position.png'), bbox_inches='tight')\n",
    "plt.show()"
   ]
  },
  {
   "cell_type": "code",
   "execution_count": null,
   "metadata": {},
   "outputs": [],
   "source": [
    "# plt.plot(t, center[2])\n",
    "plt.plot(tr, x3r)\n",
    "plt.plot(te, x3e)"
   ]
  },
  {
   "cell_type": "code",
   "execution_count": null,
   "metadata": {},
   "outputs": [],
   "source": [
    "print(count_r, count_e)"
   ]
  },
  {
   "cell_type": "code",
   "execution_count": null,
   "metadata": {},
   "outputs": [],
   "source": [
    "print(end_r - start_r, end_e - start_e)"
   ]
  },
  {
   "cell_type": "code",
   "execution_count": null,
   "metadata": {},
   "outputs": [],
   "source": [
    "# sol_list[1].y[3:, 0]"
   ]
  },
  {
   "cell_type": "markdown",
   "metadata": {},
   "source": [
    "## Test immediately after a bond forms"
   ]
  },
  {
   "cell_type": "code",
   "execution_count": null,
   "metadata": {},
   "outputs": [],
   "source": [
    "with np.load('../data/bd_run/bd_run005.npz') as data:\n",
    "    x05, y05, z05 = data['x'], data['y'], data['z']\n",
    "    t05, rmat05 = data['t'], data['r_matrices']\n",
    "    receptors, ba05 = data['receptors'], data['bond_array']"
   ]
  },
  {
   "cell_type": "code",
   "execution_count": null,
   "metadata": {},
   "outputs": [],
   "source": [
    "pars = parse_file('bd_run005')\n",
    "\n",
    "shear = pars['shear']\n",
    "sig, sig_ts, l_sep = pars['sig'], pars['sig_ts'], pars['l_sep']\n",
    "dimk0_on, dimk0_off = 0, 0\n",
    "check_bonds, one_side = pars['check_bonds'], pars['one_side']"
   ]
  },
  {
   "cell_type": "code",
   "execution_count": null,
   "metadata": {},
   "outputs": [],
   "source": [
    "i = np.nonzero(ba05[0, 0, :] > 0)[0][0]\n",
    "ti = t05[i]\n",
    "xi, yi, zi = x05[i], y05[i], z05[i]\n",
    "ri = rmat05[:, :, i]\n",
    "bi = ba05[ba05[:, 0, i] > -1, :, i]"
   ]
  },
  {
   "cell_type": "code",
   "execution_count": null,
   "metadata": {},
   "outputs": [],
   "source": [
    "t_span = (ti, ti + .02)\n",
    "num_steps = 10\n",
    "center = np.array([xi, yi, zi])\n",
    "init = np.concatenate((center, ri.flatten()))"
   ]
  },
  {
   "cell_type": "code",
   "execution_count": null,
   "metadata": {},
   "outputs": [],
   "source": [
    "t_sc, f_sc, lam, k0_on, k0_off, eta, eta_ts, kappa = nondimensionalize(\n",
    "        l_scale=1, shear=shear, mu=4e-3, l_sep=l_sep, dimk0_on=dimk0_on,\n",
    "        dimk0_off=dimk0_off, sig=sig, sig_ts=sig_ts, temp=310.)"
   ]
  },
  {
   "cell_type": "code",
   "execution_count": null,
   "metadata": {},
   "outputs": [],
   "source": [
    "result = integrate_motion(\n",
    "    t_span, num_steps, init, exact_vels, n_nodes, a=a, b=b, domain=domain, \n",
    "    adaptive=False, receptors=receptors, bonds=bi, eta=eta, eta_ts=eta_ts,\n",
    "    kappa=kappa, lam=lam, k0_on=k0_on, k0_off=k0_off, check_bonds=check_bonds,\n",
    "    one_side=one_side\n",
    ")"
   ]
  },
  {
   "cell_type": "code",
   "execution_count": null,
   "metadata": {},
   "outputs": [],
   "source": [
    "result[9]"
   ]
  },
  {
   "cell_type": "code",
   "execution_count": null,
   "metadata": {},
   "outputs": [],
   "source": [
    "plt.plot(result[9], result[0])\n",
    "plt.show()"
   ]
  },
  {
   "cell_type": "code",
   "execution_count": null,
   "metadata": {},
   "outputs": [],
   "source": []
  }
 ],
 "metadata": {
  "kernelspec": {
   "display_name": "Python 3",
   "language": "python",
   "name": "python3"
  },
  "language_info": {
   "codemirror_mode": {
    "name": "ipython",
    "version": 3
   },
   "file_extension": ".py",
   "mimetype": "text/x-python",
   "name": "python",
   "nbconvert_exporter": "python",
   "pygments_lexer": "ipython3",
   "version": "3.9.1"
  }
 },
 "nbformat": 4,
 "nbformat_minor": 4
}
