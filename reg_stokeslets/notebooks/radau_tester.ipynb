{
 "cells": [
  {
   "cell_type": "markdown",
   "metadata": {},
   "source": [
    "## Import the required modules"
   ]
  },
  {
   "cell_type": "code",
   "execution_count": 1,
   "metadata": {},
   "outputs": [],
   "source": [
    "import numpy as np\n",
    "import matplotlib.pyplot as plt\n",
    "from scipy.integrate import solve_ivp\n",
    "from os import path\n",
    "from timeit import default_timer as timer\n",
    "import sys"
   ]
  },
  {
   "cell_type": "code",
   "execution_count": 2,
   "metadata": {},
   "outputs": [],
   "source": [
    "sys.path.append(path.abspath('../src/3d/'))"
   ]
  },
  {
   "cell_type": "code",
   "execution_count": 3,
   "metadata": {},
   "outputs": [],
   "source": [
    "from motion_integration import integrate_motion, evaluate_motion_equations, matrix_to_angles, angles_to_matrix, nondimensionalize\n",
    "from binding_expt import parse_file"
   ]
  },
  {
   "cell_type": "markdown",
   "metadata": {},
   "source": [
    "## Initialize global variables"
   ]
  },
  {
   "cell_type": "code",
   "execution_count": 4,
   "metadata": {},
   "outputs": [],
   "source": [
    "t_span = (0, 50)\n",
    "n_steps = 250\n",
    "init = np.array([1.2, 0, 0, 1., 0, 0])\n",
    "domain='wall'"
   ]
  },
  {
   "cell_type": "code",
   "execution_count": 5,
   "metadata": {},
   "outputs": [],
   "source": [
    "def exact_vels(em):\n",
    "    v = np.zeros((6,))\n",
    "    v[4] = -1\n",
    "    return v"
   ]
  },
  {
   "cell_type": "markdown",
   "metadata": {},
   "source": [
    "### Run the RK integrator for a free platelet"
   ]
  },
  {
   "cell_type": "code",
   "execution_count": 6,
   "metadata": {},
   "outputs": [],
   "source": [
    "n_nodes = 8\n",
    "order = 'radau'\n",
    "adaptive = False"
   ]
  },
  {
   "cell_type": "code",
   "execution_count": 7,
   "metadata": {},
   "outputs": [
    {
     "name": "stdout",
     "output_type": "stream",
     "text": [
      "4 0 2 RK23\n",
      "4 0 2 RK23\n",
      "4 0 2 RK23\n",
      "4 0 2 RK23\n",
      "4 0 2 RK23\n",
      "4 0 2 RK23\n",
      "4 0 2 RK23\n",
      "4 0 2 RK23\n",
      "4 0 2 RK23\n",
      "4 0 2 RK23\n",
      "4 0 2 RK23\n",
      "4 0 2 RK23\n",
      "4 0 2 RK23\n",
      "4 0 2 RK23\n",
      "4 0 2 RK23\n",
      "4 0 2 RK23\n",
      "4 0 2 RK23\n",
      "4 0 2 RK23\n",
      "4 0 2 RK23\n",
      "4 0 2 RK23\n",
      "4 0 2 RK23\n",
      "4 0 2 RK23\n",
      "4 0 2 RK23\n",
      "4 0 2 RK23\n",
      "4 0 2 RK23\n",
      "4 0 2 RK23\n",
      "4 0 2 RK23\n",
      "4 0 2 RK23\n",
      "4 0 2 RK23\n",
      "4 0 2 RK23\n",
      "4 0 2 RK23\n",
      "4 0 2 RK23\n",
      "4 0 2 RK23\n",
      "4 0 2 RK23\n",
      "4 0 2 RK23\n",
      "4 0 2 RK23\n",
      "4 0 2 RK23\n",
      "4 0 2 RK23\n",
      "4 0 2 RK23\n",
      "4 0 2 RK23\n",
      "4 0 2 RK23\n",
      "4 0 2 RK23\n",
      "4 0 2 RK23\n",
      "4 0 2 RK23\n",
      "4 0 2 RK23\n",
      "4 0 2 RK23\n",
      "4 0 2 RK23\n",
      "4 0 2 RK23\n",
      "10 0 3 RK23\n",
      "14 0 5 RK23\n",
      "14 0 5 RK23\n",
      "14 0 5 RK23\n",
      "14 0 5 RK23\n",
      "14 0 5 RK23\n",
      "14 0 5 RK23\n",
      "14 0 5 RK23\n",
      "4 0 2 RK23\n",
      "4 0 2 RK23\n",
      "4 0 2 RK23\n",
      "4 0 2 RK23\n",
      "4 0 2 RK23\n",
      "4 0 2 RK23\n",
      "4 0 2 RK23\n",
      "4 0 2 RK23\n",
      "4 0 2 RK23\n",
      "4 0 2 RK23\n",
      "4 0 2 RK23\n",
      "4 0 2 RK23\n",
      "4 0 2 RK23\n",
      "4 0 2 RK23\n",
      "4 0 2 RK23\n",
      "4 0 2 RK23\n",
      "4 0 2 RK23\n",
      "4 0 2 RK23\n",
      "4 0 2 RK23\n",
      "4 0 2 RK23\n",
      "4 0 2 RK23\n",
      "4 0 2 RK23\n",
      "4 0 2 RK23\n",
      "4 0 2 RK23\n",
      "4 0 2 RK23\n",
      "4 0 2 RK23\n",
      "4 0 2 RK23\n",
      "4 0 2 RK23\n",
      "4 0 2 RK23\n",
      "4 0 2 RK23\n",
      "4 0 2 RK23\n",
      "4 0 2 RK23\n",
      "4 0 2 RK23\n",
      "4 0 2 RK23\n",
      "4 0 2 RK23\n",
      "4 0 2 RK23\n",
      "4 0 2 RK23\n",
      "4 0 2 RK23\n",
      "4 0 2 RK23\n",
      "4 0 2 RK23\n",
      "4 0 2 RK23\n",
      "4 0 2 RK23\n",
      "4 0 2 RK23\n",
      "4 0 2 RK23\n",
      "4 0 2 RK23\n",
      "4 0 2 RK23\n",
      "4 0 2 RK23\n",
      "4 0 2 RK23\n",
      "4 0 2 RK23\n",
      "4 0 2 RK23\n",
      "4 0 2 RK23\n",
      "4 0 2 RK23\n",
      "4 0 2 RK23\n",
      "4 0 2 RK23\n",
      "4 0 2 RK23\n",
      "4 0 2 RK23\n",
      "4 0 2 RK23\n",
      "4 0 2 RK23\n",
      "4 0 2 RK23\n",
      "4 0 2 RK23\n",
      "4 0 2 RK23\n",
      "4 0 2 RK23\n",
      "4 0 2 RK23\n",
      "4 0 2 RK23\n",
      "4 0 2 RK23\n",
      "4 0 2 RK23\n",
      "4 0 2 RK23\n",
      "4 0 2 RK23\n",
      "4 0 2 RK23\n",
      "4 0 2 RK23\n",
      "4 0 2 RK23\n",
      "4 0 2 RK23\n",
      "4 0 2 RK23\n",
      "4 0 2 RK23\n",
      "4 0 2 RK23\n",
      "4 0 2 RK23\n",
      "4 0 2 RK23\n",
      "4 0 2 RK23\n",
      "4 0 2 RK23\n",
      "4 0 2 RK23\n",
      "4 0 2 RK23\n",
      "4 0 2 RK23\n",
      "4 0 2 RK23\n",
      "4 0 2 RK23\n",
      "4 0 2 RK23\n",
      "4 0 2 RK23\n",
      "4 0 2 RK23\n",
      "4 0 2 RK23\n",
      "4 0 2 RK23\n",
      "4 0 2 RK23\n",
      "4 0 2 RK23\n",
      "4 0 2 RK23\n",
      "4 0 2 RK23\n",
      "4 0 2 RK23\n",
      "4 0 2 RK23\n",
      "4 0 2 RK23\n",
      "10 0 3 RK23\n",
      "14 0 5 RK23\n",
      "14 0 5 RK23\n",
      "14 0 5 RK23\n",
      "14 0 5 RK23\n",
      "14 0 5 RK23\n",
      "14 0 5 RK23\n",
      "14 0 5 RK23\n",
      "4 0 2 RK23\n",
      "4 0 2 RK23\n",
      "4 0 2 RK23\n",
      "4 0 2 RK23\n",
      "4 0 2 RK23\n",
      "4 0 2 RK23\n",
      "4 0 2 RK23\n",
      "4 0 2 RK23\n",
      "4 0 2 RK23\n",
      "4 0 2 RK23\n",
      "4 0 2 RK23\n",
      "4 0 2 RK23\n",
      "4 0 2 RK23\n",
      "4 0 2 RK23\n",
      "4 0 2 RK23\n",
      "4 0 2 RK23\n",
      "4 0 2 RK23\n",
      "4 0 2 RK23\n",
      "4 0 2 RK23\n",
      "4 0 2 RK23\n",
      "4 0 2 RK23\n",
      "4 0 2 RK23\n",
      "4 0 2 RK23\n",
      "4 0 2 RK23\n",
      "4 0 2 RK23\n",
      "4 0 2 RK23\n",
      "4 0 2 RK23\n",
      "4 0 2 RK23\n",
      "4 0 2 RK23\n",
      "4 0 2 RK23\n",
      "4 0 2 RK23\n",
      "4 0 2 RK23\n",
      "4 0 2 RK23\n",
      "4 0 2 RK23\n",
      "4 0 2 RK23\n",
      "4 0 2 RK23\n",
      "4 0 2 RK23\n",
      "4 0 2 RK23\n",
      "4 0 2 RK23\n",
      "4 0 2 RK23\n",
      "4 0 2 RK23\n",
      "4 0 2 RK23\n",
      "4 0 2 RK23\n",
      "4 0 2 RK23\n",
      "4 0 2 RK23\n",
      "4 0 2 RK23\n",
      "4 0 2 RK23\n",
      "4 0 2 RK23\n",
      "4 0 2 RK23\n",
      "4 0 2 RK23\n",
      "4 0 2 RK23\n",
      "4 0 2 RK23\n",
      "4 0 2 RK23\n",
      "4 0 2 RK23\n",
      "4 0 2 RK23\n",
      "4 0 2 RK23\n",
      "4 0 2 RK23\n",
      "4 0 2 RK23\n",
      "4 0 2 RK23\n",
      "4 0 2 RK23\n",
      "4 0 2 RK23\n",
      "4 0 2 RK23\n",
      "4 0 2 RK23\n",
      "4 0 2 RK23\n",
      "4 0 2 RK23\n",
      "4 0 2 RK23\n",
      "4 0 2 RK23\n",
      "4 0 2 RK23\n",
      "4 0 2 RK23\n",
      "4 0 2 RK23\n",
      "4 0 2 RK23\n",
      "4 0 2 RK23\n",
      "4 0 2 RK23\n",
      "4 0 2 RK23\n",
      "4 0 2 RK23\n",
      "4 0 2 RK23\n",
      "4 0 2 RK23\n",
      "4 0 2 RK23\n",
      "4 0 2 RK23\n",
      "4 0 2 RK23\n",
      "4 0 2 RK23\n",
      "4 0 2 RK23\n",
      "4 0 2 RK23\n",
      "4 0 2 RK23\n",
      "4 0 2 RK23\n",
      "4 0 2 RK23\n",
      "4 0 2 RK23\n",
      "4 0 2 RK23\n",
      "4 0 2 RK23\n",
      "4 0 2 RK23\n"
     ]
    }
   ],
   "source": [
    "evaluate_motion_equations.counter = 0\n",
    "start_r = timer()\n",
    "result_r = integrate_motion(t_span, n_steps, init, exact_vels, n_nodes=n_nodes, order=order,\n",
    "                            adaptive=adaptive, a=1.5, b=0.5, domain=domain)\n",
    "end_r = timer()"
   ]
  },
  {
   "cell_type": "code",
   "execution_count": 8,
   "metadata": {},
   "outputs": [],
   "source": [
    "x1r, x2r, x3r, r_matricesr, errsr = result_r[:5]\n",
    "tr = result_r[9]\n",
    "count_r = evaluate_motion_equations.counter"
   ]
  },
  {
   "cell_type": "markdown",
   "metadata": {},
   "source": [
    "### Run the explicit integrator for a free platelet"
   ]
  },
  {
   "cell_type": "code",
   "execution_count": 9,
   "metadata": {},
   "outputs": [],
   "source": [
    "n_nodes = 8\n",
    "order = '2nd'\n",
    "adaptive = False"
   ]
  },
  {
   "cell_type": "code",
   "execution_count": 10,
   "metadata": {},
   "outputs": [],
   "source": [
    "evaluate_motion_equations.counter = 0\n",
    "start_e = timer()\n",
    "result_e = integrate_motion(t_span, n_steps, init, exact_vels, n_nodes=n_nodes, order=order,\n",
    "                            adaptive=adaptive, a=1.5, b=0.5, domain=domain)\n",
    "end_e = timer()"
   ]
  },
  {
   "cell_type": "code",
   "execution_count": 11,
   "metadata": {},
   "outputs": [],
   "source": [
    "x1e, x2e, x3e, r_matricese, errse = result_e[:5]\n",
    "te = result_e[9]\n",
    "count_e = evaluate_motion_equations.counter"
   ]
  },
  {
   "cell_type": "markdown",
   "metadata": {},
   "source": [
    "### Run an explicit RK without checkpointing"
   ]
  },
  {
   "cell_type": "code",
   "execution_count": 6,
   "metadata": {},
   "outputs": [],
   "source": [
    "n_nodes = 8\n",
    "r_hat = np.array([[0, 1, 0], [0, 0, -1], [-1, 0, 0]])\n",
    "r_matrix = np.eye(3)\n",
    "x1, x2, x3 = init[:3]\n",
    "b_matrix = np.dot(r_matrix, r_hat.T)\n",
    "angles = matrix_to_angles(r_hat)\n",
    "a, b = 1.5, 0.5"
   ]
  },
  {
   "cell_type": "code",
   "execution_count": 7,
   "metadata": {},
   "outputs": [],
   "source": [
    "def fun(t, y, b_matrix):\n",
    "    func_center = y[:3]\n",
    "    fun_angles = y[3:]\n",
    "\n",
    "    r_hat_tmp = angles_to_matrix(fun_angles)\n",
    "    rmat_temp = np.dot(b_matrix, r_hat_tmp)\n",
    "\n",
    "    func_forces, func_torques = np.zeros((3,)), np.zeros((3,))\n",
    "    # func_point, func_rep_force = repulsive_force(func_center[0], rmat_temp[:, 0])\n",
    "    # func_forces += np.array([func_rep_force, 0, 0])\n",
    "    # func_torques += np.cross(\n",
    "    #     [func_point[0] - func_center[0], func_point[1], func_point[2]],\n",
    "    #     [func_rep_force, 0, 0])\n",
    "\n",
    "    func_result = evaluate_motion_equations(\n",
    "        func_center[0], rmat_temp[:, 0], func_forces, func_torques, exact_vels, a=a, b=b, n_nodes=n_nodes,\n",
    "        domain=domain, proc=1)\n",
    "    d_rmat = np.cross(func_result[3:6], rmat_temp, axisb=0, axisc=0)\n",
    "    d_rm_hat = np.linalg.solve(b_matrix, d_rmat)\n",
    "    s1, s2, s3 = np.sin(fun_angles)\n",
    "    c1, c2, c3 = np.cos(fun_angles)\n",
    "    d_beta = d_rm_hat[1, 0] / c2\n",
    "    d_alpha = (d_rm_hat[0, 0] + c1 * s2 * d_beta) / (-s1 * c2)\n",
    "    d_gamma = (d_rm_hat[1, 1] + s2 * c2 * d_beta) / (-c2 * s3)\n",
    "    dy = np.concatenate((func_result[:3], [d_alpha], [d_beta], [d_gamma]))\n",
    "    return dy"
   ]
  },
  {
   "cell_type": "code",
   "execution_count": 8,
   "metadata": {},
   "outputs": [],
   "source": [
    "center = np.array([x1, x2, x3])\n",
    "y0 = np.concatenate((center, angles))\n",
    "t_current = t_span[0]\n",
    "sol_list = []\n",
    "b_matrices = [b_matrix]\n",
    "evaluate_motion_equations.counter = 0"
   ]
  },
  {
   "cell_type": "code",
   "execution_count": 9,
   "metadata": {},
   "outputs": [],
   "source": [
    "def event1(t, y):\n",
    "    return np.abs(y[4]) - np.pi / 2 + np.pi / 16\n",
    "def event2(t, y):\n",
    "    return np.abs(y[3]) - np.pi + np.pi / 16\n",
    "def event3(t, y):\n",
    "    return np.abs(y[5]) - np.pi + np.pi / 16\n",
    "\n",
    "events = [event1, event2, event3]\n",
    "for e in events:\n",
    "    e.terminal = 1"
   ]
  },
  {
   "cell_type": "code",
   "execution_count": 10,
   "metadata": {},
   "outputs": [
    {
     "name": "stdout",
     "output_type": "stream",
     "text": [
      "1\n"
     ]
    },
    {
     "ename": "AssertionError",
     "evalue": "",
     "output_type": "error",
     "traceback": [
      "\u001b[0;31m---------------------------------------------------------------------------\u001b[0m",
      "\u001b[0;31mAssertionError\u001b[0m                            Traceback (most recent call last)",
      "\u001b[0;32m<ipython-input-10-6d9f1e19050a>\u001b[0m in \u001b[0;36m<module>\u001b[0;34m\u001b[0m\n\u001b[1;32m      4\u001b[0m         \u001b[0;32mreturn\u001b[0m \u001b[0mfun\u001b[0m\u001b[0;34m(\u001b[0m\u001b[0mt\u001b[0m\u001b[0;34m,\u001b[0m \u001b[0my\u001b[0m\u001b[0;34m,\u001b[0m \u001b[0mb_matrix\u001b[0m\u001b[0;34m)\u001b[0m\u001b[0;34m\u001b[0m\u001b[0;34m\u001b[0m\u001b[0m\n\u001b[1;32m      5\u001b[0m \u001b[0;34m\u001b[0m\u001b[0m\n\u001b[0;32m----> 6\u001b[0;31m     \u001b[0msol\u001b[0m \u001b[0;34m=\u001b[0m \u001b[0msolve_ivp\u001b[0m\u001b[0;34m(\u001b[0m\u001b[0mivp_fun\u001b[0m\u001b[0;34m,\u001b[0m \u001b[0;34m(\u001b[0m\u001b[0mt_current\u001b[0m\u001b[0;34m,\u001b[0m \u001b[0mt_span\u001b[0m\u001b[0;34m[\u001b[0m\u001b[0;36m1\u001b[0m\u001b[0;34m]\u001b[0m\u001b[0;34m)\u001b[0m\u001b[0;34m,\u001b[0m \u001b[0my0\u001b[0m\u001b[0;34m,\u001b[0m \u001b[0mevents\u001b[0m\u001b[0;34m=\u001b[0m\u001b[0mevents\u001b[0m\u001b[0;34m)\u001b[0m\u001b[0;34m\u001b[0m\u001b[0;34m\u001b[0m\u001b[0m\n\u001b[0m\u001b[1;32m      7\u001b[0m     \u001b[0msol_list\u001b[0m\u001b[0;34m.\u001b[0m\u001b[0mappend\u001b[0m\u001b[0;34m(\u001b[0m\u001b[0msol\u001b[0m\u001b[0;34m)\u001b[0m\u001b[0;34m\u001b[0m\u001b[0;34m\u001b[0m\u001b[0m\n\u001b[1;32m      8\u001b[0m \u001b[0;34m\u001b[0m\u001b[0m\n",
      "\u001b[0;32m~/miniconda3/envs/science/lib/python3.9/site-packages/scipy/integrate/_ivp/ivp.py\u001b[0m in \u001b[0;36msolve_ivp\u001b[0;34m(fun, t_span, y0, method, t_eval, dense_output, events, vectorized, args, **options)\u001b[0m\n\u001b[1;32m    574\u001b[0m     \u001b[0mstatus\u001b[0m \u001b[0;34m=\u001b[0m \u001b[0;32mNone\u001b[0m\u001b[0;34m\u001b[0m\u001b[0;34m\u001b[0m\u001b[0m\n\u001b[1;32m    575\u001b[0m     \u001b[0;32mwhile\u001b[0m \u001b[0mstatus\u001b[0m \u001b[0;32mis\u001b[0m \u001b[0;32mNone\u001b[0m\u001b[0;34m:\u001b[0m\u001b[0;34m\u001b[0m\u001b[0;34m\u001b[0m\u001b[0m\n\u001b[0;32m--> 576\u001b[0;31m         \u001b[0mmessage\u001b[0m \u001b[0;34m=\u001b[0m \u001b[0msolver\u001b[0m\u001b[0;34m.\u001b[0m\u001b[0mstep\u001b[0m\u001b[0;34m(\u001b[0m\u001b[0;34m)\u001b[0m\u001b[0;34m\u001b[0m\u001b[0;34m\u001b[0m\u001b[0m\n\u001b[0m\u001b[1;32m    577\u001b[0m \u001b[0;34m\u001b[0m\u001b[0m\n\u001b[1;32m    578\u001b[0m         \u001b[0;32mif\u001b[0m \u001b[0msolver\u001b[0m\u001b[0;34m.\u001b[0m\u001b[0mstatus\u001b[0m \u001b[0;34m==\u001b[0m \u001b[0;34m'finished'\u001b[0m\u001b[0;34m:\u001b[0m\u001b[0;34m\u001b[0m\u001b[0;34m\u001b[0m\u001b[0m\n",
      "\u001b[0;32m~/miniconda3/envs/science/lib/python3.9/site-packages/scipy/integrate/_ivp/base.py\u001b[0m in \u001b[0;36mstep\u001b[0;34m(self)\u001b[0m\n\u001b[1;32m    179\u001b[0m         \u001b[0;32melse\u001b[0m\u001b[0;34m:\u001b[0m\u001b[0;34m\u001b[0m\u001b[0;34m\u001b[0m\u001b[0m\n\u001b[1;32m    180\u001b[0m             \u001b[0mt\u001b[0m \u001b[0;34m=\u001b[0m \u001b[0mself\u001b[0m\u001b[0;34m.\u001b[0m\u001b[0mt\u001b[0m\u001b[0;34m\u001b[0m\u001b[0;34m\u001b[0m\u001b[0m\n\u001b[0;32m--> 181\u001b[0;31m             \u001b[0msuccess\u001b[0m\u001b[0;34m,\u001b[0m \u001b[0mmessage\u001b[0m \u001b[0;34m=\u001b[0m \u001b[0mself\u001b[0m\u001b[0;34m.\u001b[0m\u001b[0m_step_impl\u001b[0m\u001b[0;34m(\u001b[0m\u001b[0;34m)\u001b[0m\u001b[0;34m\u001b[0m\u001b[0;34m\u001b[0m\u001b[0m\n\u001b[0m\u001b[1;32m    182\u001b[0m \u001b[0;34m\u001b[0m\u001b[0m\n\u001b[1;32m    183\u001b[0m             \u001b[0;32mif\u001b[0m \u001b[0;32mnot\u001b[0m \u001b[0msuccess\u001b[0m\u001b[0;34m:\u001b[0m\u001b[0;34m\u001b[0m\u001b[0;34m\u001b[0m\u001b[0m\n",
      "\u001b[0;32m~/miniconda3/envs/science/lib/python3.9/site-packages/scipy/integrate/_ivp/rk.py\u001b[0m in \u001b[0;36m_step_impl\u001b[0;34m(self)\u001b[0m\n\u001b[1;32m    142\u001b[0m             \u001b[0mh_abs\u001b[0m \u001b[0;34m=\u001b[0m \u001b[0mnp\u001b[0m\u001b[0;34m.\u001b[0m\u001b[0mabs\u001b[0m\u001b[0;34m(\u001b[0m\u001b[0mh\u001b[0m\u001b[0;34m)\u001b[0m\u001b[0;34m\u001b[0m\u001b[0;34m\u001b[0m\u001b[0m\n\u001b[1;32m    143\u001b[0m \u001b[0;34m\u001b[0m\u001b[0m\n\u001b[0;32m--> 144\u001b[0;31m             y_new, f_new = rk_step(self.fun, t, y, self.f, h, self.A,\n\u001b[0m\u001b[1;32m    145\u001b[0m                                    self.B, self.C, self.K)\n\u001b[1;32m    146\u001b[0m             \u001b[0mscale\u001b[0m \u001b[0;34m=\u001b[0m \u001b[0matol\u001b[0m \u001b[0;34m+\u001b[0m \u001b[0mnp\u001b[0m\u001b[0;34m.\u001b[0m\u001b[0mmaximum\u001b[0m\u001b[0;34m(\u001b[0m\u001b[0mnp\u001b[0m\u001b[0;34m.\u001b[0m\u001b[0mabs\u001b[0m\u001b[0;34m(\u001b[0m\u001b[0my\u001b[0m\u001b[0;34m)\u001b[0m\u001b[0;34m,\u001b[0m \u001b[0mnp\u001b[0m\u001b[0;34m.\u001b[0m\u001b[0mabs\u001b[0m\u001b[0;34m(\u001b[0m\u001b[0my_new\u001b[0m\u001b[0;34m)\u001b[0m\u001b[0;34m)\u001b[0m \u001b[0;34m*\u001b[0m \u001b[0mrtol\u001b[0m\u001b[0;34m\u001b[0m\u001b[0;34m\u001b[0m\u001b[0m\n",
      "\u001b[0;32m~/miniconda3/envs/science/lib/python3.9/site-packages/scipy/integrate/_ivp/rk.py\u001b[0m in \u001b[0;36mrk_step\u001b[0;34m(fun, t, y, f, h, A, B, C, K)\u001b[0m\n\u001b[1;32m     62\u001b[0m     \u001b[0;32mfor\u001b[0m \u001b[0ms\u001b[0m\u001b[0;34m,\u001b[0m \u001b[0;34m(\u001b[0m\u001b[0ma\u001b[0m\u001b[0;34m,\u001b[0m \u001b[0mc\u001b[0m\u001b[0;34m)\u001b[0m \u001b[0;32min\u001b[0m \u001b[0menumerate\u001b[0m\u001b[0;34m(\u001b[0m\u001b[0mzip\u001b[0m\u001b[0;34m(\u001b[0m\u001b[0mA\u001b[0m\u001b[0;34m[\u001b[0m\u001b[0;36m1\u001b[0m\u001b[0;34m:\u001b[0m\u001b[0;34m]\u001b[0m\u001b[0;34m,\u001b[0m \u001b[0mC\u001b[0m\u001b[0;34m[\u001b[0m\u001b[0;36m1\u001b[0m\u001b[0;34m:\u001b[0m\u001b[0;34m]\u001b[0m\u001b[0;34m)\u001b[0m\u001b[0;34m,\u001b[0m \u001b[0mstart\u001b[0m\u001b[0;34m=\u001b[0m\u001b[0;36m1\u001b[0m\u001b[0;34m)\u001b[0m\u001b[0;34m:\u001b[0m\u001b[0;34m\u001b[0m\u001b[0;34m\u001b[0m\u001b[0m\n\u001b[1;32m     63\u001b[0m         \u001b[0mdy\u001b[0m \u001b[0;34m=\u001b[0m \u001b[0mnp\u001b[0m\u001b[0;34m.\u001b[0m\u001b[0mdot\u001b[0m\u001b[0;34m(\u001b[0m\u001b[0mK\u001b[0m\u001b[0;34m[\u001b[0m\u001b[0;34m:\u001b[0m\u001b[0ms\u001b[0m\u001b[0;34m]\u001b[0m\u001b[0;34m.\u001b[0m\u001b[0mT\u001b[0m\u001b[0;34m,\u001b[0m \u001b[0ma\u001b[0m\u001b[0;34m[\u001b[0m\u001b[0;34m:\u001b[0m\u001b[0ms\u001b[0m\u001b[0;34m]\u001b[0m\u001b[0;34m)\u001b[0m \u001b[0;34m*\u001b[0m \u001b[0mh\u001b[0m\u001b[0;34m\u001b[0m\u001b[0;34m\u001b[0m\u001b[0m\n\u001b[0;32m---> 64\u001b[0;31m         \u001b[0mK\u001b[0m\u001b[0;34m[\u001b[0m\u001b[0ms\u001b[0m\u001b[0;34m]\u001b[0m \u001b[0;34m=\u001b[0m \u001b[0mfun\u001b[0m\u001b[0;34m(\u001b[0m\u001b[0mt\u001b[0m \u001b[0;34m+\u001b[0m \u001b[0mc\u001b[0m \u001b[0;34m*\u001b[0m \u001b[0mh\u001b[0m\u001b[0;34m,\u001b[0m \u001b[0my\u001b[0m \u001b[0;34m+\u001b[0m \u001b[0mdy\u001b[0m\u001b[0;34m)\u001b[0m\u001b[0;34m\u001b[0m\u001b[0;34m\u001b[0m\u001b[0m\n\u001b[0m\u001b[1;32m     65\u001b[0m \u001b[0;34m\u001b[0m\u001b[0m\n\u001b[1;32m     66\u001b[0m     \u001b[0my_new\u001b[0m \u001b[0;34m=\u001b[0m \u001b[0my\u001b[0m \u001b[0;34m+\u001b[0m \u001b[0mh\u001b[0m \u001b[0;34m*\u001b[0m \u001b[0mnp\u001b[0m\u001b[0;34m.\u001b[0m\u001b[0mdot\u001b[0m\u001b[0;34m(\u001b[0m\u001b[0mK\u001b[0m\u001b[0;34m[\u001b[0m\u001b[0;34m:\u001b[0m\u001b[0;34m-\u001b[0m\u001b[0;36m1\u001b[0m\u001b[0;34m]\u001b[0m\u001b[0;34m.\u001b[0m\u001b[0mT\u001b[0m\u001b[0;34m,\u001b[0m \u001b[0mB\u001b[0m\u001b[0;34m)\u001b[0m\u001b[0;34m\u001b[0m\u001b[0;34m\u001b[0m\u001b[0m\n",
      "\u001b[0;32m~/miniconda3/envs/science/lib/python3.9/site-packages/scipy/integrate/_ivp/base.py\u001b[0m in \u001b[0;36mfun\u001b[0;34m(t, y)\u001b[0m\n\u001b[1;32m    136\u001b[0m         \u001b[0;32mdef\u001b[0m \u001b[0mfun\u001b[0m\u001b[0;34m(\u001b[0m\u001b[0mt\u001b[0m\u001b[0;34m,\u001b[0m \u001b[0my\u001b[0m\u001b[0;34m)\u001b[0m\u001b[0;34m:\u001b[0m\u001b[0;34m\u001b[0m\u001b[0;34m\u001b[0m\u001b[0m\n\u001b[1;32m    137\u001b[0m             \u001b[0mself\u001b[0m\u001b[0;34m.\u001b[0m\u001b[0mnfev\u001b[0m \u001b[0;34m+=\u001b[0m \u001b[0;36m1\u001b[0m\u001b[0;34m\u001b[0m\u001b[0;34m\u001b[0m\u001b[0m\n\u001b[0;32m--> 138\u001b[0;31m             \u001b[0;32mreturn\u001b[0m \u001b[0mself\u001b[0m\u001b[0;34m.\u001b[0m\u001b[0mfun_single\u001b[0m\u001b[0;34m(\u001b[0m\u001b[0mt\u001b[0m\u001b[0;34m,\u001b[0m \u001b[0my\u001b[0m\u001b[0;34m)\u001b[0m\u001b[0;34m\u001b[0m\u001b[0;34m\u001b[0m\u001b[0m\n\u001b[0m\u001b[1;32m    139\u001b[0m \u001b[0;34m\u001b[0m\u001b[0m\n\u001b[1;32m    140\u001b[0m         \u001b[0mself\u001b[0m\u001b[0;34m.\u001b[0m\u001b[0mfun\u001b[0m \u001b[0;34m=\u001b[0m \u001b[0mfun\u001b[0m\u001b[0;34m\u001b[0m\u001b[0;34m\u001b[0m\u001b[0m\n",
      "\u001b[0;32m~/miniconda3/envs/science/lib/python3.9/site-packages/scipy/integrate/_ivp/base.py\u001b[0m in \u001b[0;36mfun_wrapped\u001b[0;34m(t, y)\u001b[0m\n\u001b[1;32m     18\u001b[0m \u001b[0;34m\u001b[0m\u001b[0m\n\u001b[1;32m     19\u001b[0m     \u001b[0;32mdef\u001b[0m \u001b[0mfun_wrapped\u001b[0m\u001b[0;34m(\u001b[0m\u001b[0mt\u001b[0m\u001b[0;34m,\u001b[0m \u001b[0my\u001b[0m\u001b[0;34m)\u001b[0m\u001b[0;34m:\u001b[0m\u001b[0;34m\u001b[0m\u001b[0;34m\u001b[0m\u001b[0m\n\u001b[0;32m---> 20\u001b[0;31m         \u001b[0;32mreturn\u001b[0m \u001b[0mnp\u001b[0m\u001b[0;34m.\u001b[0m\u001b[0masarray\u001b[0m\u001b[0;34m(\u001b[0m\u001b[0mfun\u001b[0m\u001b[0;34m(\u001b[0m\u001b[0mt\u001b[0m\u001b[0;34m,\u001b[0m \u001b[0my\u001b[0m\u001b[0;34m)\u001b[0m\u001b[0;34m,\u001b[0m \u001b[0mdtype\u001b[0m\u001b[0;34m=\u001b[0m\u001b[0mdtype\u001b[0m\u001b[0;34m)\u001b[0m\u001b[0;34m\u001b[0m\u001b[0;34m\u001b[0m\u001b[0m\n\u001b[0m\u001b[1;32m     21\u001b[0m \u001b[0;34m\u001b[0m\u001b[0m\n\u001b[1;32m     22\u001b[0m     \u001b[0;32mreturn\u001b[0m \u001b[0mfun_wrapped\u001b[0m\u001b[0;34m,\u001b[0m \u001b[0my0\u001b[0m\u001b[0;34m\u001b[0m\u001b[0;34m\u001b[0m\u001b[0m\n",
      "\u001b[0;32m<ipython-input-10-6d9f1e19050a>\u001b[0m in \u001b[0;36mivp_fun\u001b[0;34m(t, y)\u001b[0m\n\u001b[1;32m      2\u001b[0m \u001b[0;32mwhile\u001b[0m \u001b[0;32mTrue\u001b[0m\u001b[0;34m:\u001b[0m\u001b[0;34m\u001b[0m\u001b[0;34m\u001b[0m\u001b[0m\n\u001b[1;32m      3\u001b[0m     \u001b[0;32mdef\u001b[0m \u001b[0mivp_fun\u001b[0m\u001b[0;34m(\u001b[0m\u001b[0mt\u001b[0m\u001b[0;34m,\u001b[0m \u001b[0my\u001b[0m\u001b[0;34m)\u001b[0m\u001b[0;34m:\u001b[0m\u001b[0;34m\u001b[0m\u001b[0;34m\u001b[0m\u001b[0m\n\u001b[0;32m----> 4\u001b[0;31m         \u001b[0;32mreturn\u001b[0m \u001b[0mfun\u001b[0m\u001b[0;34m(\u001b[0m\u001b[0mt\u001b[0m\u001b[0;34m,\u001b[0m \u001b[0my\u001b[0m\u001b[0;34m,\u001b[0m \u001b[0mb_matrix\u001b[0m\u001b[0;34m)\u001b[0m\u001b[0;34m\u001b[0m\u001b[0;34m\u001b[0m\u001b[0m\n\u001b[0m\u001b[1;32m      5\u001b[0m \u001b[0;34m\u001b[0m\u001b[0m\n\u001b[1;32m      6\u001b[0m     \u001b[0msol\u001b[0m \u001b[0;34m=\u001b[0m \u001b[0msolve_ivp\u001b[0m\u001b[0;34m(\u001b[0m\u001b[0mivp_fun\u001b[0m\u001b[0;34m,\u001b[0m \u001b[0;34m(\u001b[0m\u001b[0mt_current\u001b[0m\u001b[0;34m,\u001b[0m \u001b[0mt_span\u001b[0m\u001b[0;34m[\u001b[0m\u001b[0;36m1\u001b[0m\u001b[0;34m]\u001b[0m\u001b[0;34m)\u001b[0m\u001b[0;34m,\u001b[0m \u001b[0my0\u001b[0m\u001b[0;34m,\u001b[0m \u001b[0mevents\u001b[0m\u001b[0;34m=\u001b[0m\u001b[0mevents\u001b[0m\u001b[0;34m)\u001b[0m\u001b[0;34m\u001b[0m\u001b[0;34m\u001b[0m\u001b[0m\n",
      "\u001b[0;32m<ipython-input-7-c8499c41a05a>\u001b[0m in \u001b[0;36mfun\u001b[0;34m(t, y, b_matrix)\u001b[0m\n\u001b[1;32m     13\u001b[0m     \u001b[0;31m#     [func_rep_force, 0, 0])\u001b[0m\u001b[0;34m\u001b[0m\u001b[0;34m\u001b[0m\u001b[0;34m\u001b[0m\u001b[0m\n\u001b[1;32m     14\u001b[0m \u001b[0;34m\u001b[0m\u001b[0m\n\u001b[0;32m---> 15\u001b[0;31m     func_result = evaluate_motion_equations(\n\u001b[0m\u001b[1;32m     16\u001b[0m         \u001b[0mfunc_center\u001b[0m\u001b[0;34m[\u001b[0m\u001b[0;36m0\u001b[0m\u001b[0;34m]\u001b[0m\u001b[0;34m,\u001b[0m \u001b[0mrmat_temp\u001b[0m\u001b[0;34m[\u001b[0m\u001b[0;34m:\u001b[0m\u001b[0;34m,\u001b[0m \u001b[0;36m0\u001b[0m\u001b[0;34m]\u001b[0m\u001b[0;34m,\u001b[0m \u001b[0mfunc_forces\u001b[0m\u001b[0;34m,\u001b[0m \u001b[0mfunc_torques\u001b[0m\u001b[0;34m,\u001b[0m \u001b[0mexact_vels\u001b[0m\u001b[0;34m,\u001b[0m \u001b[0ma\u001b[0m\u001b[0;34m=\u001b[0m\u001b[0ma\u001b[0m\u001b[0;34m,\u001b[0m \u001b[0mb\u001b[0m\u001b[0;34m=\u001b[0m\u001b[0mb\u001b[0m\u001b[0;34m,\u001b[0m \u001b[0mn_nodes\u001b[0m\u001b[0;34m=\u001b[0m\u001b[0mn_nodes\u001b[0m\u001b[0;34m,\u001b[0m\u001b[0;34m\u001b[0m\u001b[0;34m\u001b[0m\u001b[0m\n\u001b[1;32m     17\u001b[0m         domain=domain, proc=1)\n",
      "\u001b[0;32m~/Documents/grad-school/thesis/reg_stokeslets/src/3d/motion_integration.py\u001b[0m in \u001b[0;36mevaluate_motion_equations\u001b[0;34m(h, e_m, forces, torques, exact_vels, a, b, n_nodes, domain, proc, save_quad_matrix, precompute_array)\u001b[0m\n\u001b[1;32m    191\u001b[0m                               \u001b[0mb\u001b[0m\u001b[0;34m=\u001b[0m\u001b[0;36m1.0\u001b[0m\u001b[0;34m,\u001b[0m \u001b[0mn_nodes\u001b[0m\u001b[0;34m=\u001b[0m\u001b[0;36m8\u001b[0m\u001b[0;34m,\u001b[0m \u001b[0mdomain\u001b[0m\u001b[0;34m=\u001b[0m\u001b[0;34m'free'\u001b[0m\u001b[0;34m,\u001b[0m \u001b[0mproc\u001b[0m\u001b[0;34m=\u001b[0m\u001b[0;36m1\u001b[0m\u001b[0;34m,\u001b[0m\u001b[0;34m\u001b[0m\u001b[0;34m\u001b[0m\u001b[0m\n\u001b[1;32m    192\u001b[0m                               save_quad_matrix=False, precompute_array=None):\n\u001b[0;32m--> 193\u001b[0;31m     \u001b[0;32massert\u001b[0m \u001b[0;34m(\u001b[0m\u001b[0mdomain\u001b[0m \u001b[0;34m==\u001b[0m \u001b[0;34m'free'\u001b[0m \u001b[0;32mor\u001b[0m \u001b[0mvalid_orientation\u001b[0m\u001b[0;34m(\u001b[0m\u001b[0mn_nodes\u001b[0m\u001b[0;34m=\u001b[0m\u001b[0;36m48\u001b[0m\u001b[0;34m,\u001b[0m \u001b[0me_m\u001b[0m\u001b[0;34m=\u001b[0m\u001b[0me_m\u001b[0m\u001b[0;34m,\u001b[0m \u001b[0mdistance\u001b[0m\u001b[0;34m=\u001b[0m\u001b[0mh\u001b[0m\u001b[0;34m,\u001b[0m \u001b[0ma\u001b[0m\u001b[0;34m=\u001b[0m\u001b[0ma\u001b[0m\u001b[0;34m,\u001b[0m \u001b[0mb\u001b[0m\u001b[0;34m=\u001b[0m\u001b[0mb\u001b[0m\u001b[0;34m)\u001b[0m\u001b[0;34m)\u001b[0m\u001b[0;34m\u001b[0m\u001b[0;34m\u001b[0m\u001b[0m\n\u001b[0m\u001b[1;32m    194\u001b[0m     \u001b[0meps\u001b[0m \u001b[0;34m=\u001b[0m \u001b[0meps_picker\u001b[0m\u001b[0;34m(\u001b[0m\u001b[0mn_nodes\u001b[0m\u001b[0;34m,\u001b[0m \u001b[0ma\u001b[0m\u001b[0;34m,\u001b[0m \u001b[0mb\u001b[0m\u001b[0;34m)\u001b[0m\u001b[0;34m\u001b[0m\u001b[0;34m\u001b[0m\u001b[0m\n\u001b[1;32m    195\u001b[0m     \u001b[0mtheta\u001b[0m \u001b[0;34m=\u001b[0m \u001b[0mnp\u001b[0m\u001b[0;34m.\u001b[0m\u001b[0marctan2\u001b[0m\u001b[0;34m(\u001b[0m\u001b[0me_m\u001b[0m\u001b[0;34m[\u001b[0m\u001b[0;36m2\u001b[0m\u001b[0;34m]\u001b[0m\u001b[0;34m,\u001b[0m \u001b[0me_m\u001b[0m\u001b[0;34m[\u001b[0m\u001b[0;36m1\u001b[0m\u001b[0;34m]\u001b[0m\u001b[0;34m)\u001b[0m\u001b[0;34m\u001b[0m\u001b[0;34m\u001b[0m\u001b[0m\n",
      "\u001b[0;31mAssertionError\u001b[0m: "
     ]
    }
   ],
   "source": [
    "start = timer()\n",
    "while True:\n",
    "    def ivp_fun(t, y):\n",
    "        return fun(t, y, b_matrix)\n",
    "    \n",
    "    sol = solve_ivp(ivp_fun, (t_current, t_span[1]), y0, events=events)\n",
    "    sol_list.append(sol)\n",
    "    \n",
    "    print(sol.status)\n",
    "    \n",
    "    if sol.status == 0:\n",
    "        break\n",
    "    \n",
    "    rmat_hat = angles_to_matrix(sol.y[3:, -1])\n",
    "    r_matrix = np.dot(b_matrix, rmat_hat)\n",
    "    b_matrix = np.dot(r_matrix, r_hat.T)\n",
    "    b_matrices.append(b_matrix)\n",
    "    y0 = np.concatenate((sol.y[:3, -1], matrix_to_angles(r_hat)))\n",
    "    t_current = sol.t[-1]\n",
    "end = timer()"
   ]
  },
  {
   "cell_type": "code",
   "execution_count": 18,
   "metadata": {},
   "outputs": [
    {
     "name": "stdout",
     "output_type": "stream",
     "text": [
      "[ 1.57079633e+00 -5.39788557e-05  1.57079633e+00]\n",
      "[ 1.57079633e+00 -5.93768510e-04  1.57079615e+00]\n",
      "[ 1.57079633 -0.00599279  1.57077837]\n",
      "[ 1.57079633 -0.03275223  1.57026025]\n",
      "[ 1.57079633 -0.07967399  1.56763043]\n",
      "[ 1.57079633 -0.14768174  1.55998169]\n",
      "[ 1.57079633 -0.22785101  1.54531984]\n",
      "[ 1.57079633 -0.32108348  1.52107089]\n",
      "[ 1.57079633 -0.4330797   1.48287722]\n",
      "[ 1.57079633 -0.56838329  1.42627788]\n",
      "[ 1.57079633 -0.73286359  1.34854595]\n",
      "[ 1.57079633 -0.94306072  1.25270326]\n",
      "[ 1.57079633 -1.09424712  1.20478031]\n",
      "[ 1.57079633 -1.26789444  1.2009795 ]\n",
      "[ 1.57079633 -1.37444679  1.24540491]\n",
      "[ 1.57147144 -0.00200102  1.570795  ]\n",
      "[ 1.57829782 -0.02223044  1.57063263]\n",
      "[ 1.60615951 -0.10441293  1.5672044 ]\n",
      "[ 1.64967637 -0.22943611  1.55388914]\n",
      "[ 1.70794165 -0.38493909  1.52607761]\n",
      "[ 1.77863239 -0.54881544  1.48950147]\n",
      "[ 1.87666821 -0.72877537  1.45422676]\n",
      "[ 1.96871469 -0.85460795  1.44548189]\n",
      "[ 2.0723473  -0.95915461  1.46043739]\n",
      "[ 2.16879035 -1.03115035  1.49144733]\n",
      "[ 2.27970685 -1.09288706  1.5406134 ]\n",
      "[ 2.40029616 -1.14200896  1.6048741 ]\n",
      "[ 2.53393989 -1.18108332  1.68506604]\n",
      "[ 2.67842047 -1.21035009  1.78003194]\n",
      "[ 2.8322601  -1.23055669  1.89019876]\n",
      "[ 2.94524311 -1.23965201  1.97791426]\n",
      "[ 1.57130644e+00 -3.43470976e-04  1.57079568e+00]\n",
      "[ 1.57633992 -0.00373259  1.57079239]\n",
      "[ 1.59874976 -0.01881767  1.57084466]\n",
      "[ 1.63232995 -0.04138619  1.57112861]\n",
      "[ 1.67328116 -0.0687885   1.57181345]\n",
      "[ 1.72064828 -0.10021416  1.57308317]\n",
      "[ 1.77662478 -0.13681188  1.57527482]\n",
      "[ 1.84903236 -0.18298143  1.57928991]\n",
      "[ 1.93805495 -0.23743515  1.58619898]\n",
      "[ 2.03613471 -0.29382126  1.59663346]\n",
      "[ 2.15245092 -0.35500006  1.61327674]\n",
      "[ 2.27263094 -0.41103983  1.63581813]\n",
      "[ 2.39702945 -0.46101416  1.66517971]\n",
      "[ 2.53519531 -0.50689544  1.70510943]\n",
      "[ 2.70396387 -0.54950347  1.76428451]\n",
      "[ 2.85401597 -0.57541034  1.82638564]\n",
      "[ 2.94524311 -0.58583941  1.86847593]\n",
      "[ 1.57354630e+00 -1.18907804e-03  1.57079364e+00]\n",
      "[ 1.60174476 -0.01337882  1.57087377]\n",
      "[ 1.69173267 -0.05211389  1.57244376]\n",
      "[ 1.83854466 -0.11387946  1.57933103]\n",
      "[ 2.01844642 -0.18494292  1.59527485]\n",
      "[ 2.1798106  -0.24233833  1.61681047]\n",
      "[ 2.37857048 -0.30267887  1.6529428 ]\n",
      "[ 2.57976904 -0.35063068  1.70025485]\n",
      "[ 2.73919188 -0.37849167  1.7453001 ]\n",
      "[ 2.8884779 -0.3963195  1.7932128]\n",
      "[ 2.94524311 -0.40096596  1.81282032]\n",
      "[ 1.57232639e+00 -5.05502432e-04  1.57079273e+00]\n",
      "[ 1.58726962 -0.00544232  1.57078446]\n",
      "[ 1.63474505 -0.02111301  1.57108091]\n",
      "[ 1.69966575 -0.04244722  1.57228055]\n",
      "[ 1.77256217 -0.06615171  1.57472103]\n",
      "[ 1.8473017  -0.09003246  1.57842407]\n",
      "[ 1.92068549 -0.11291828  1.5832422 ]\n",
      "[ 1.99255081 -0.13466122  1.58909504]\n",
      "[ 2.06608791 -0.15610279  1.59624698]\n",
      "[ 2.15008967 -0.17945262  1.60586108]\n",
      "[ 2.26918588 -0.21019535  1.62210437]\n",
      "[ 2.38193882 -0.23643793  1.6403509 ]\n",
      "[ 2.53308411 -0.266777    1.6690749 ]\n",
      "[ 2.68583999 -0.29123049  1.70299328]\n",
      "[ 2.83510654 -0.3087234   1.74060334]\n"
     ]
    }
   ],
   "source": [
    "t_list = [sol_list[0].t[0, None]]\n",
    "center_list = [sol_list[0].y[:3, 0, None]]\n",
    "rmat_list = [np.dot(b_matrices[0], angles_to_matrix(sol_list[0].y[3:, 0]))]\n",
    "for sol, bmat in zip(sol_list, b_matrices):\n",
    "    t_list.append(sol.t[1:])\n",
    "    center_list.append(sol.y[:3, 1:])\n",
    "    for angles in sol.y[3:, 1:].T:\n",
    "        print(angles)\n",
    "        rmat_hat = angles_to_matrix(angles)\n",
    "        rmat_list.append(np.dot(bmat, rmat_hat))"
   ]
  },
  {
   "cell_type": "code",
   "execution_count": 19,
   "metadata": {},
   "outputs": [
    {
     "data": {
      "text/plain": [
       "(3, 3, 75)"
      ]
     },
     "execution_count": 19,
     "metadata": {},
     "output_type": "execute_result"
    }
   ],
   "source": [
    "np.stack(rmat_list, axis=-1).shape"
   ]
  },
  {
   "cell_type": "code",
   "execution_count": 20,
   "metadata": {},
   "outputs": [
    {
     "name": "stdout",
     "output_type": "stream",
     "text": [
      "(75,) (3, 75) (3, 3, 75)\n"
     ]
    }
   ],
   "source": [
    "t = np.concatenate(t_list)\n",
    "center = np.concatenate(center_list, axis=-1)\n",
    "r_matrices = np.stack(rmat_list, axis=-1)\n",
    "count = evaluate_motion_equations.counter\n",
    "\n",
    "print(t.shape, center.shape, r_matrices.shape)"
   ]
  },
  {
   "cell_type": "code",
   "execution_count": 21,
   "metadata": {},
   "outputs": [
    {
     "name": "stdout",
     "output_type": "stream",
     "text": [
      "56 0 16\n"
     ]
    }
   ],
   "source": [
    "print(sol.nfev, sol.njev, len(sol.t))"
   ]
  },
  {
   "cell_type": "code",
   "execution_count": 22,
   "metadata": {},
   "outputs": [
    {
     "data": {
      "image/png": "[encoded data removed]",
      "text/plain": [
       "<Figure size 432x288 with 1 Axes>"
      ]
     },
     "metadata": {
      "needs_background": "light"
     },
     "output_type": "display_data"
    }
   ],
   "source": [
    "fig, ax = plt.subplots()\n",
    "ax.plot(t, r_matrices[0, 0, :], color='C0')\n",
    "ax.plot(tr, r_matricesr[0, 0, :], color='C1')\n",
    "ax.plot(te, r_matricese[0, 0, :], color='C2')\n",
    "ax.plot(t, r_matrices[2, 0, :], color='C0', linestyle='--')\n",
    "ax.plot(tr, r_matricesr[2, 0, :], color='C1', linestyle='--')\n",
    "ax.plot(te, r_matricese[2, 0, :], color='C2', linestyle='--')\n",
    "plt.legend(['Runge-Kutta, version 2', 'Runge-Kutta, version 1', 'Old explicit method'])\n",
    "plt.xlabel('Time (nondimensional)')\n",
    "plt.ylabel('$x$ or $z$ component of $e_m$')\n",
    "plt.savefig(path.expanduser('~/Desktop/xz_cmps.png'), bbox_inches='tight')\n",
    "plt.show()"
   ]
  },
  {
   "cell_type": "code",
   "execution_count": 23,
   "metadata": {},
   "outputs": [
    {
     "data": {
      "image/png": "[encoded data removed]",
      "text/plain": [
       "<Figure size 432x288 with 1 Axes>"
      ]
     },
     "metadata": {
      "needs_background": "light"
     },
     "output_type": "display_data"
    }
   ],
   "source": [
    "plt.plot(t, r_matrices[1, 0, :])\n",
    "plt.plot(tr, r_matricesr[1, 0, :])\n",
    "plt.plot(te, r_matricese[1, 0, :])\n",
    "plt.legend(['Runge-Kutta, version 2', 'Runge-Kutta, version 1', 'Old explicit method'])\n",
    "plt.xlabel('Time (nondimensional)')\n",
    "plt.ylabel('$y$ component of $e_m$')\n",
    "plt.savefig(path.expanduser('~/Desktop/y_cmps.png'), bbox_inches='tight')\n",
    "plt.show()"
   ]
  },
  {
   "cell_type": "code",
   "execution_count": 24,
   "metadata": {},
   "outputs": [
    {
     "data": {
      "image/png": "[encoded data removed]",
      "text/plain": [
       "<Figure size 432x288 with 1 Axes>"
      ]
     },
     "metadata": {
      "needs_background": "light"
     },
     "output_type": "display_data"
    }
   ],
   "source": [
    "plt.plot(t, center[0])\n",
    "plt.plot(tr, x1r)\n",
    "plt.plot(te, x1e)\n",
    "plt.legend(['Runge-Kutta, version 2', 'Runge-Kutta, version 1', 'Old explicit method'])\n",
    "plt.savefig(path.expanduser('~/Desktop/x_position.png'), bbox_inches='tight')\n",
    "plt.show()"
   ]
  },
  {
   "cell_type": "code",
   "execution_count": 25,
   "metadata": {},
   "outputs": [
    {
     "data": {
      "text/plain": [
       "[<matplotlib.lines.Line2D at 0x120301670>]"
      ]
     },
     "execution_count": 25,
     "metadata": {},
     "output_type": "execute_result"
    },
    {
     "data": {
      "image/png": "[encoded data removed]",
      "text/plain": [
       "<Figure size 432x288 with 1 Axes>"
      ]
     },
     "metadata": {
      "needs_background": "light"
     },
     "output_type": "display_data"
    }
   ],
   "source": [
    "plt.plot(t, center[2])\n",
    "plt.plot(tr, x3r)\n",
    "plt.plot(te, x3e)"
   ]
  },
  {
   "cell_type": "code",
   "execution_count": 26,
   "metadata": {},
   "outputs": [
    {
     "name": "stdout",
     "output_type": "stream",
     "text": [
      "1152 620 351\n"
     ]
    }
   ],
   "source": [
    "print(count_r, count_e, count)"
   ]
  },
  {
   "cell_type": "code",
   "execution_count": 27,
   "metadata": {},
   "outputs": [
    {
     "name": "stdout",
     "output_type": "stream",
     "text": [
      "298.204332282 157.61640573700004 13.83177776499997\n"
     ]
    }
   ],
   "source": [
    "print(end_r - start_r, end_e - start_e, end - start)"
   ]
  },
  {
   "cell_type": "code",
   "execution_count": null,
   "metadata": {},
   "outputs": [],
   "source": [
    "sol_list[1].y[3:, 0]"
   ]
  },
  {
   "cell_type": "markdown",
   "metadata": {},
   "source": [
    "## Test immediately after a bond forms"
   ]
  },
  {
   "cell_type": "code",
   "execution_count": null,
   "metadata": {},
   "outputs": [],
   "source": [
    "with np.load('../data/bd_run/bd_run005.npz') as data:\n",
    "    x05, y05, z05 = data['x'], data['y'], data['z']\n",
    "    t05, rmat05 = data['t'], data['r_matrices']\n",
    "    receptors, ba05 = data['receptors'], data['bond_array']"
   ]
  },
  {
   "cell_type": "code",
   "execution_count": null,
   "metadata": {},
   "outputs": [],
   "source": [
    "pars = parse_file('bd_run005')\n",
    "\n",
    "shear = pars['shear']\n",
    "sig, sig_ts, l_sep = pars['sig'], pars['sig_ts'], pars['l_sep']\n",
    "dimk0_on, dimk0_off = 0, 0\n",
    "check_bonds, one_side = pars['check_bonds'], pars['one_side']"
   ]
  },
  {
   "cell_type": "code",
   "execution_count": null,
   "metadata": {},
   "outputs": [],
   "source": [
    "i = np.nonzero(ba05[0, 0, :] > 0)[0][0]\n",
    "ti = t05[i]\n",
    "xi, yi, zi = x05[i], y05[i], z05[i]\n",
    "ri = rmat05[:, :, i]\n",
    "bi = ba05[ba05[:, 0, i] > -1, :, i]"
   ]
  },
  {
   "cell_type": "code",
   "execution_count": null,
   "metadata": {},
   "outputs": [],
   "source": [
    "t_span = (ti, ti + .02)\n",
    "num_steps = 10\n",
    "center = np.array([xi, yi, zi])\n",
    "init = np.concatenate((center, ri.flatten()))"
   ]
  },
  {
   "cell_type": "code",
   "execution_count": null,
   "metadata": {},
   "outputs": [],
   "source": [
    "t_sc, f_sc, lam, k0_on, k0_off, eta, eta_ts, kappa = nondimensionalize(\n",
    "        l_scale=1, shear=shear, mu=4e-3, l_sep=l_sep, dimk0_on=dimk0_on,\n",
    "        dimk0_off=dimk0_off, sig=sig, sig_ts=sig_ts, temp=310.)"
   ]
  },
  {
   "cell_type": "code",
   "execution_count": null,
   "metadata": {},
   "outputs": [],
   "source": [
    "result = integrate_motion(\n",
    "    t_span, num_steps, init, exact_vels, n_nodes, a=a, b=b, domain=domain, \n",
    "    adaptive=False, receptors=receptors, bonds=bi, eta=eta, eta_ts=eta_ts,\n",
    "    kappa=kappa, lam=lam, k0_on=k0_on, k0_off=k0_off, check_bonds=check_bonds,\n",
    "    one_side=one_side\n",
    ")"
   ]
  },
  {
   "cell_type": "code",
   "execution_count": null,
   "metadata": {},
   "outputs": [],
   "source": [
    "result[9]"
   ]
  },
  {
   "cell_type": "code",
   "execution_count": null,
   "metadata": {},
   "outputs": [],
   "source": [
    "plt.plot(result[9], result[0])\n",
    "plt.show()"
   ]
  },
  {
   "cell_type": "code",
   "execution_count": null,
   "metadata": {},
   "outputs": [],
   "source": []
  }
 ],
 "metadata": {
  "kernelspec": {
   "display_name": "Python 3",
   "language": "python",
   "name": "python3"
  },
  "language_info": {
   "codemirror_mode": {
    "name": "ipython",
    "version": 3
   },
   "file_extension": ".py",
   "mimetype": "text/x-python",
   "name": "python",
   "nbconvert_exporter": "python",
   "pygments_lexer": "ipython3",
   "version": "3.9.1"
  }
 },
 "nbformat": 4,
 "nbformat_minor": 4
}
