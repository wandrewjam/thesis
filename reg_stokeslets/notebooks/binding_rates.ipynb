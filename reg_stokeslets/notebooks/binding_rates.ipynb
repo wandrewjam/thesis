{
 "cells": [
  {
   "cell_type": "code",
   "execution_count": null,
   "metadata": {},
   "outputs": [],
   "source": [
    "import numpy as np\n",
    "import matplotlib.pyplot as plt"
   ]
  },
  {
   "cell_type": "code",
   "execution_count": null,
   "metadata": {},
   "outputs": [],
   "source": [
    "k0_on, k0_off = 5, 5\n",
    "delta = 4e-5\n",
    "kB, T = 1.38e-5, 310\n",
    "sig, sig_ts = 100, 99."
   ]
  },
  {
   "cell_type": "code",
   "execution_count": null,
   "metadata": {},
   "outputs": [],
   "source": [
    "def dembo_on(r):\n",
    "    return k0_on * np.exp(-sig_ts * r**2 / (2*kB*T))\n",
    "def dembo_off(r):\n",
    "    return k0_off * np.exp((sig - sig_ts) * r**2 / (2*kB*T))\n",
    "def bell_on(r):\n",
    "    return k0_on * np.exp(sig * np.abs(r) * (delta - .5 * np.abs(r)) / (kB*T))\n",
    "def bell_off(r):\n",
    "    return k0_off * np.exp(delta * sig * np.abs(r) / (kB*T))"
   ]
  },
  {
   "cell_type": "code",
   "execution_count": null,
   "metadata": {},
   "outputs": [],
   "source": [
    "r_range = np.linspace(0, .04, num=200)\n",
    "\n",
    "df, dr = dembo_on(r_range), dembo_off(r_range)\n",
    "bf, br = bell_on(r_range), bell_off(r_range)"
   ]
  },
  {
   "cell_type": "code",
   "execution_count": null,
   "metadata": {},
   "outputs": [],
   "source": [
    "plt.plot(r_range, df, r_range, dr, r_range, bf, r_range, br)\n",
    "# plt.plot(r_range, df, r_range, bf, r_range, br)\n",
    "plt.xlabel('r')\n",
    "plt.ylabel('rate')\n",
    "plt.legend(['dembo on', 'dembo off', 'bell on', 'bell off'], loc='best')\n",
    "# plt.legend(['dembo on', 'bell on', 'bell off'], loc='best')\n",
    "plt.show()"
   ]
  },
  {
   "cell_type": "code",
   "execution_count": null,
   "metadata": {},
   "outputs": [],
   "source": [
    "plt.plot(r_range, df, r_range, bf)\n",
    "plt.xlabel('r')\n",
    "plt.ylabel('rate')\n",
    "plt.legend(['dembo on', 'bell on'], loc='best')\n",
    "plt.show()"
   ]
  },
  {
   "cell_type": "code",
   "execution_count": null,
   "metadata": {},
   "outputs": [],
   "source": []
  }
 ],
 "metadata": {
  "kernelspec": {
   "display_name": "Python 3",
   "language": "python",
   "name": "python3"
  },
  "language_info": {
   "codemirror_mode": {
    "name": "ipython",
    "version": 3
   },
   "file_extension": ".py",
   "mimetype": "text/x-python",
   "name": "python",
   "nbconvert_exporter": "python",
   "pygments_lexer": "ipython3",
   "version": "3.9.1"
  }
 },
 "nbformat": 4,
 "nbformat_minor": 4
}
