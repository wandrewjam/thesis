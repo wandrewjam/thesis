{
 "cells": [
  {
   "cell_type": "code",
   "execution_count": null,
   "metadata": {},
   "outputs": [],
   "source": [
    "import numpy as np\n",
    "import matplotlib.pyplot as plt\n",
    "from motion_integration import get_bond_lengths, find_bond_forces, nondimensionalize\n",
    "from binding_expt import parse_file"
   ]
  },
  {
   "cell_type": "code",
   "execution_count": null,
   "metadata": {},
   "outputs": [],
   "source": [
    "with np.load('data/bd_run044.npz') as data:  # Trial with a large jump to a negative z value\n",
    "    t = data['t']\n",
    "    x = data['x']\n",
    "    y = data['y']\n",
    "    z = data['z']\n",
    "    r_matrices = data['r_matrices']\n",
    "    bond_array = data['bond_array']\n",
    "    receptors = data['receptors']\n",
    "\n",
    "pars = parse_file('bd_run044')\n",
    "del pars['filename']\n",
    "del pars['seed']\n",
    "del pars['t_start']\n",
    "del pars['t_end']\n",
    "del pars['num_steps']\n",
    "del pars['n_nodes']\n",
    "del pars['a']\n",
    "del pars['b']\n",
    "del pars['adaptive']\n",
    "del pars['one_side']\n",
    "del pars['check_bonds']\n",
    "t_sc, f_sc, lam, k0_on, k0_off, eta, eta_ts, kappa = nondimensionalize(l_scale=1, mu=4e-3, temp=310., **pars)"
   ]
  },
  {
   "cell_type": "code",
   "execution_count": null,
   "metadata": {},
   "outputs": [],
   "source": [
    "z_diffs = (z[1:] - z[:-1]) / (t[1:] - t[:-1])\n",
    "ii = np.nonzero(z_diffs > 1000)[0][0]\n",
    "print(ii)\n",
    "print(bond_array[..., ii - 1])\n",
    "print()\n",
    "print(bond_array[..., ii])\n",
    "print()\n",
    "print(bond_array[..., ii + 1])\n",
    "print()\n",
    "print(bond_array[..., ii + 2])"
   ]
  },
  {
   "cell_type": "code",
   "execution_count": null,
   "metadata": {},
   "outputs": [],
   "source": [
    "t[65:75]"
   ]
  },
  {
   "cell_type": "code",
   "execution_count": null,
   "metadata": {},
   "outputs": [],
   "source": [
    "bond_array[0, :, 65:75].T"
   ]
  },
  {
   "cell_type": "code",
   "execution_count": null,
   "metadata": {},
   "outputs": [],
   "source": [
    "plt.plot(t[ii-2:ii+2], x[ii-2:ii+2])\n",
    "plt.show()"
   ]
  },
  {
   "cell_type": "code",
   "execution_count": null,
   "metadata": {},
   "outputs": [],
   "source": [
    "# Process bonds\n",
    "\n",
    "def find_forces(i):\n",
    "    rmat = r_matrices[..., i]\n",
    "    true_receptors = np.dot(receptors, rmat.T)\n",
    "    x1, x2, x3 = x[i], y[i], z[i]\n",
    "    true_receptors += np.array([[x1, x2, x3]])\n",
    "\n",
    "    bond_list = [row for row in bond_array[..., i] if row[0] > -1]\n",
    "    get_bond_lengths(bond_list, true_receptors)\n",
    "\n",
    "    center = np.array([x1, x2, x3])\n",
    "    return find_bond_forces(receptors, bond_list, center, rmat, kappa, lam)"
   ]
  },
  {
   "cell_type": "code",
   "execution_count": null,
   "metadata": {},
   "outputs": [],
   "source": [
    "f1, t1 = find_forces(ii-3)\n",
    "f2, t2 = find_forces(ii-2)\n",
    "f3, t3 = find_forces(ii-1)\n",
    "f4, t4 = find_forces(ii)\n",
    "\n",
    "print(np.linalg.norm(f2 - f1), np.linalg.norm(t2 - t1))\n",
    "print(np.linalg.norm(f2 - f3), np.linalg.norm(t2 - t3))\n",
    "print(np.linalg.norm(f4 - f3), np.linalg.norm(t4 - t3))"
   ]
  },
  {
   "cell_type": "code",
   "execution_count": null,
   "metadata": {},
   "outputs": [],
   "source": [
    "ii"
   ]
  },
  {
   "cell_type": "code",
   "execution_count": null,
   "metadata": {},
   "outputs": [],
   "source": [
    "t[ii-1]"
   ]
  },
  {
   "cell_type": "code",
   "execution_count": null,
   "metadata": {},
   "outputs": [],
   "source": [
    "f3, t3"
   ]
  },
  {
   "cell_type": "code",
   "execution_count": null,
   "metadata": {},
   "outputs": [],
   "source": [
    "f4, t4"
   ]
  },
  {
   "cell_type": "code",
   "execution_count": null,
   "metadata": {},
   "outputs": [],
   "source": [
    "t[ii-5:ii+20]"
   ]
  },
  {
   "cell_type": "code",
   "execution_count": null,
   "metadata": {},
   "outputs": [],
   "source": [
    "t"
   ]
  },
  {
   "cell_type": "code",
   "execution_count": null,
   "metadata": {},
   "outputs": [],
   "source": []
  }
 ],
 "metadata": {
  "kernelspec": {
   "display_name": "Python 3",
   "language": "python",
   "name": "python3"
  },
  "language_info": {
   "codemirror_mode": {
    "name": "ipython",
    "version": 3
   },
   "file_extension": ".py",
   "mimetype": "text/x-python",
   "name": "python",
   "nbconvert_exporter": "python",
   "pygments_lexer": "ipython3",
   "version": "3.9.1"
  }
 },
 "nbformat": 4,
 "nbformat_minor": 4
}
