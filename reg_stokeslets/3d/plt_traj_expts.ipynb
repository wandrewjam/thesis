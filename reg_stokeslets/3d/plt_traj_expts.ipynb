{
 "cells": [
  {
   "cell_type": "code",
   "execution_count": 16,
   "metadata": {},
   "outputs": [],
   "source": [
    "import numpy as np\n",
    "import matplotlib.pyplot as plt\n",
    "from motion_integration import get_bond_lengths, find_bond_forces, nondimensionalize\n",
    "from binding_expt import parse_file"
   ]
  },
  {
   "cell_type": "code",
   "execution_count": 17,
   "metadata": {},
   "outputs": [],
   "source": [
    "with np.load('data/bd_run044.npz') as data:  # Trial with a large jump to a negative z value\n",
    "    t = data['t']\n",
    "    x = data['x']\n",
    "    y = data['y']\n",
    "    z = data['z']\n",
    "    r_matrices = data['r_matrices']\n",
    "    bond_array = data['bond_array']\n",
    "    receptors = data['receptors']\n",
    "\n",
    "pars = parse_file('bd_run044')\n",
    "del pars['filename']\n",
    "del pars['seed']\n",
    "del pars['t_start']\n",
    "del pars['t_end']\n",
    "del pars['num_steps']\n",
    "del pars['n_nodes']\n",
    "del pars['a']\n",
    "del pars['b']\n",
    "del pars['adaptive']\n",
    "del pars['one_side']\n",
    "del pars['check_bonds']\n",
    "t_sc, f_sc, lam, k0_on, k0_off, eta, eta_ts, kappa = nondimensionalize(l_scale=1, mu=4e-3, temp=310., **pars)"
   ]
  },
  {
   "cell_type": "code",
   "execution_count": 40,
   "metadata": {},
   "outputs": [
    {
     "name": "stdout",
     "output_type": "stream",
     "text": [
      "66\n",
      "[[6.60000000e+02 2.00000000e-02 1.11029398e+01]]\n",
      "\n",
      "[[6.60000000e+02 2.00000000e-02 1.11029398e+01]]\n",
      "\n",
      "[[-1. -1. -1.]]\n",
      "\n",
      "[[-1. -1. -1.]]\n"
     ]
    }
   ],
   "source": [
    "z_diffs = (z[1:] - z[:-1]) / (t[1:] - t[:-1])\n",
    "ii = np.nonzero(z_diffs > 1000)[0][0]\n",
    "print(ii)\n",
    "print(bond_array[..., ii - 1])\n",
    "print()\n",
    "print(bond_array[..., ii])\n",
    "print()\n",
    "print(bond_array[..., ii + 1])\n",
    "print()\n",
    "print(bond_array[..., ii + 2])"
   ]
  },
  {
   "cell_type": "code",
   "execution_count": 50,
   "metadata": {},
   "outputs": [
    {
     "data": {
      "text/plain": [
       "array([0.108     , 0.11      , 0.11001562, 0.11003125, 0.1100625 ,\n",
       "       0.110125  , 0.11025   , 0.1105    , 0.111     , 0.112     ])"
      ]
     },
     "execution_count": 50,
     "metadata": {},
     "output_type": "execute_result"
    }
   ],
   "source": [
    "t[65:75]"
   ]
  },
  {
   "cell_type": "code",
   "execution_count": 52,
   "metadata": {},
   "outputs": [
    {
     "data": {
      "text/plain": [
       "array([[ 6.60000000e+02,  2.00000000e-02,  1.11029398e+01],\n",
       "       [ 6.60000000e+02,  2.00000000e-02,  1.11029398e+01],\n",
       "       [-1.00000000e+00, -1.00000000e+00, -1.00000000e+00],\n",
       "       [-1.00000000e+00, -1.00000000e+00, -1.00000000e+00],\n",
       "       [-1.00000000e+00, -1.00000000e+00, -1.00000000e+00],\n",
       "       [-1.00000000e+00, -1.00000000e+00, -1.00000000e+00],\n",
       "       [-1.00000000e+00, -1.00000000e+00, -1.00000000e+00],\n",
       "       [-1.00000000e+00, -1.00000000e+00, -1.00000000e+00],\n",
       "       [-1.00000000e+00, -1.00000000e+00, -1.00000000e+00],\n",
       "       [-1.00000000e+00, -1.00000000e+00, -1.00000000e+00]])"
      ]
     },
     "execution_count": 52,
     "metadata": {},
     "output_type": "execute_result"
    }
   ],
   "source": [
    "bond_array[0, :, 65:75].T"
   ]
  },
  {
   "cell_type": "code",
   "execution_count": 36,
   "metadata": {},
   "outputs": [
    {
     "data": {
      "image/png": "[encoded data removed]",
      "text/plain": [
       "<Figure size 432x288 with 1 Axes>"
      ]
     },
     "metadata": {
      "needs_background": "light"
     },
     "output_type": "display_data"
    }
   ],
   "source": [
    "plt.plot(t[ii-2:ii+2], x[ii-2:ii+2])\n",
    "plt.show()"
   ]
  },
  {
   "cell_type": "code",
   "execution_count": 37,
   "metadata": {},
   "outputs": [],
   "source": [
    "# Process bonds\n",
    "\n",
    "def find_forces(i):\n",
    "    rmat = r_matrices[..., i]\n",
    "    true_receptors = np.dot(receptors, rmat.T)\n",
    "    x1, x2, x3 = x[i], y[i], z[i]\n",
    "    true_receptors += np.array([[x1, x2, x3]])\n",
    "\n",
    "    bond_list = [row for row in bond_array[..., i] if row[0] > -1]\n",
    "    get_bond_lengths(bond_list, true_receptors)\n",
    "\n",
    "    center = np.array([x1, x2, x3])\n",
    "    return find_bond_forces(receptors, bond_list, center, rmat, kappa, lam)"
   ]
  },
  {
   "cell_type": "code",
   "execution_count": 38,
   "metadata": {},
   "outputs": [
    {
     "name": "stdout",
     "output_type": "stream",
     "text": [
      "0.0 0.0\n",
      "227.4354239746517 258.19609320900855\n",
      "26590.56276180576 36027.55339184823\n"
     ]
    }
   ],
   "source": [
    "f1, t1 = find_forces(ii-3)\n",
    "f2, t2 = find_forces(ii-2)\n",
    "f3, t3 = find_forces(ii-1)\n",
    "f4, t4 = find_forces(ii)\n",
    "\n",
    "print(np.linalg.norm(f2 - f1), np.linalg.norm(t2 - t1))\n",
    "print(np.linalg.norm(f2 - f3), np.linalg.norm(t2 - t3))\n",
    "print(np.linalg.norm(f4 - f3), np.linalg.norm(t4 - t3))"
   ]
  },
  {
   "cell_type": "code",
   "execution_count": 7,
   "metadata": {},
   "outputs": [
    {
     "data": {
      "text/plain": [
       "67"
      ]
     },
     "execution_count": 7,
     "metadata": {},
     "output_type": "execute_result"
    }
   ],
   "source": [
    "ii"
   ]
  },
  {
   "cell_type": "code",
   "execution_count": 11,
   "metadata": {},
   "outputs": [
    {
     "data": {
      "text/plain": [
       "0.10799999999999994"
      ]
     },
     "execution_count": 11,
     "metadata": {},
     "output_type": "execute_result"
    }
   ],
   "source": [
    "t[ii-1]"
   ]
  },
  {
   "cell_type": "code",
   "execution_count": 12,
   "metadata": {},
   "outputs": [
    {
     "data": {
      "text/plain": [
       "(array([-140.09851581, -384.47409438,  761.51489618]),\n",
       " array([-156.64102483, 1141.43652657,  547.4713651 ]))"
      ]
     },
     "execution_count": 12,
     "metadata": {},
     "output_type": "execute_result"
    }
   ],
   "source": [
    "f3, t3"
   ]
  },
  {
   "cell_type": "code",
   "execution_count": 14,
   "metadata": {},
   "outputs": [
    {
     "data": {
      "text/plain": [
       "(array([ -32769.07528813,   54648.86336906, -115851.9683054 ]),\n",
       " array([-34982.82961171,  -5485.28497831,   7307.5183823 ]))"
      ]
     },
     "execution_count": 14,
     "metadata": {},
     "output_type": "execute_result"
    }
   ],
   "source": [
    "f4, t4"
   ]
  },
  {
   "cell_type": "code",
   "execution_count": 15,
   "metadata": {},
   "outputs": [
    {
     "data": {
      "text/plain": [
       "array([0.105     , 0.106     , 0.107     , 0.1075    , 0.108     ,\n",
       "       0.11      , 0.11000195, 0.11000391, 0.11000781, 0.11001562,\n",
       "       0.11003125, 0.1100625 , 0.110125  , 0.11025   , 0.1105    ,\n",
       "       0.111     , 0.112     , 0.114     , 0.116     , 0.118     ,\n",
       "       0.12      , 0.122     , 0.124     , 0.126     , 0.128     ])"
      ]
     },
     "execution_count": 15,
     "metadata": {},
     "output_type": "execute_result"
    }
   ],
   "source": [
    "t[ii-5:ii+20]"
   ]
  },
  {
   "cell_type": "code",
   "execution_count": 39,
   "metadata": {},
   "outputs": [
    {
     "data": {
      "text/plain": [
       "array([0.        , 0.002     , 0.004     , 0.006     , 0.008     ,\n",
       "       0.01      , 0.012     , 0.014     , 0.016     , 0.018     ,\n",
       "       0.02      , 0.022     , 0.024     , 0.026     , 0.028     ,\n",
       "       0.03      , 0.032     , 0.034     , 0.036     , 0.038     ,\n",
       "       0.04      , 0.042     , 0.044     , 0.046     , 0.048     ,\n",
       "       0.05      , 0.052     , 0.054     , 0.056     , 0.058     ,\n",
       "       0.06      , 0.062     , 0.064     , 0.066     , 0.068     ,\n",
       "       0.07      , 0.072     , 0.074     , 0.076     , 0.078     ,\n",
       "       0.08      , 0.082     , 0.084     , 0.086     , 0.088     ,\n",
       "       0.09      , 0.092     , 0.094     , 0.096     , 0.098     ,\n",
       "       0.099     , 0.09925   , 0.0995    , 0.09975   , 0.1       ,\n",
       "       0.1005    , 0.10075   , 0.101     , 0.102     , 0.103     ,\n",
       "       0.104     , 0.105     , 0.106     , 0.1065    , 0.107     ,\n",
       "       0.108     , 0.11      , 0.11001562, 0.11003125, 0.1100625 ,\n",
       "       0.110125  , 0.11025   , 0.1105    , 0.111     , 0.112     ,\n",
       "       0.114     , 0.116     , 0.118     , 0.12      , 0.122     ,\n",
       "       0.124     , 0.126     , 0.128     , 0.13      , 0.132     ,\n",
       "       0.134     , 0.136     , 0.138     , 0.14      , 0.142     ,\n",
       "       0.144     , 0.146     , 0.148     , 0.15      , 0.152     ,\n",
       "       0.154     , 0.156     , 0.158     , 0.16      , 0.162     ,\n",
       "       0.164     , 0.166     , 0.168     , 0.17      , 0.172     ,\n",
       "       0.174     , 0.176     , 0.178     , 0.18      , 0.182     ,\n",
       "       0.184     , 0.186     , 0.188     , 0.19      , 0.192     ,\n",
       "       0.194     , 0.196     , 0.198     , 0.2       , 0.202     ,\n",
       "       0.204     , 0.206     , 0.208     , 0.21      , 0.212     ,\n",
       "       0.214     , 0.216     , 0.218     , 0.22      , 0.222     ,\n",
       "       0.224     , 0.226     , 0.228     , 0.23      , 0.232     ,\n",
       "       0.234     , 0.236     , 0.238     , 0.24      , 0.242     ,\n",
       "       0.244     , 0.246     , 0.248     , 0.25      , 0.252     ,\n",
       "       0.254     , 0.256     , 0.258     , 0.26      , 0.262     ,\n",
       "       0.264     , 0.266     , 0.268     , 0.27      , 0.272     ,\n",
       "       0.274     , 0.276     , 0.278     , 0.28      , 0.282     ,\n",
       "       0.284     , 0.286     , 0.288     , 0.29      , 0.292     ,\n",
       "       0.294     , 0.296     , 0.298     , 0.3       , 0.302     ,\n",
       "       0.304     , 0.306     , 0.308     , 0.31      , 0.312     ,\n",
       "       0.314     , 0.316     , 0.318     , 0.32      , 0.322     ,\n",
       "       0.324     , 0.326     , 0.328     , 0.33      , 0.332     ,\n",
       "       0.334     , 0.336     , 0.338     , 0.34      , 0.342     ,\n",
       "       0.344     , 0.346     , 0.348     , 0.35      , 0.352     ,\n",
       "       0.354     , 0.356     , 0.358     , 0.36      , 0.362     ,\n",
       "       0.364     , 0.366     , 0.368     , 0.37      , 0.372     ,\n",
       "       0.374     , 0.376     , 0.378     , 0.38      , 0.382     ,\n",
       "       0.384     , 0.386     , 0.388     , 0.39      , 0.392     ,\n",
       "       0.394     , 0.396     , 0.398     , 0.4       , 0.402     ,\n",
       "       0.404     , 0.406     , 0.408     , 0.41      , 0.412     ,\n",
       "       0.414     , 0.416     , 0.418     , 0.42      , 0.422     ,\n",
       "       0.424     , 0.426     , 0.428     , 0.43      , 0.432     ,\n",
       "       0.434     , 0.436     , 0.438     , 0.44      , 0.442     ,\n",
       "       0.444     , 0.446     , 0.446125  , 0.44625   , 0.4465    ,\n",
       "       0.447     , 0.448     , 0.45      , 0.452     , 0.454     ,\n",
       "       0.456     , 0.458     , 0.46      , 0.462     , 0.464     ,\n",
       "       0.466     , 0.468     , 0.47      , 0.472     , 0.474     ,\n",
       "       0.476     , 0.478     , 0.48      , 0.482     , 0.484     ,\n",
       "       0.486     , 0.488     , 0.49      , 0.492     , 0.494     ,\n",
       "       0.496     , 0.498     , 0.5       ])"
      ]
     },
     "execution_count": 39,
     "metadata": {},
     "output_type": "execute_result"
    }
   ],
   "source": [
    "t"
   ]
  },
  {
   "cell_type": "code",
   "execution_count": null,
   "metadata": {},
   "outputs": [],
   "source": []
  }
 ],
 "metadata": {
  "kernelspec": {
   "display_name": "Python 3",
   "language": "python",
   "name": "python3"
  },
  "language_info": {
   "codemirror_mode": {
    "name": "ipython",
    "version": 3
   },
   "file_extension": ".py",
   "mimetype": "text/x-python",
   "name": "python",
   "nbconvert_exporter": "python",
   "pygments_lexer": "ipython3",
   "version": "3.9.1"
  }
 },
 "nbformat": 4,
 "nbformat_minor": 4
}
