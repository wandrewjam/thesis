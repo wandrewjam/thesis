{
 "cells": [
  {
   "cell_type": "code",
   "execution_count": 1,
   "metadata": {},
   "outputs": [],
   "source": [
    "import numpy as np\n",
    "import matplotlib.pyplot as plt\n",
    "from scipy.special import gammaincc as gammq\n",
    "from jv_simulation import experiment\n",
    "from jv import solve_pde, delta_h, phi\n",
    "from scipy.optimize import minimize"
   ]
  },
  {
   "cell_type": "markdown",
   "metadata": {},
   "source": [
    "# Parameter Fitting Experiments"
   ]
  },
  {
   "cell_type": "markdown",
   "metadata": {},
   "source": [
    "This notebook contains Python experiments following Chapter 15 in Numerical Recipes in Fortran by Press et. al."
   ]
  },
  {
   "cell_type": "markdown",
   "metadata": {},
   "source": [
    "## Fitting Data to a Straight Line"
   ]
  },
  {
   "cell_type": "markdown",
   "metadata": {},
   "source": [
    "In the simplest case, we want to fit a straight line $y(x) = a + bx$ to some set of data. There are three things we want to quantify/estimate (1) the values of model parameters, (2) error estimates on those values, and (3) a goodness-of-fit estimate. Formulas to estimate each of these in a straight-line model are given in section 15.2.\n",
    "\n",
    "For our experiments, we first want to generate some sample data. Let's restrict $x$ to the interval $[0, 1)$. Pick a random $a$ and $b$ to be the true model, and generate data $y_i = a + bx_i + \\eta_i$ where $\\eta_i$ is a white noise term with 0 mean and variance $\\sigma_i^2$. Let's take $N = 20$ to be the number of data points, and pick the $x_i$'s randomly. We also need to specify a $\\sigma_i^2$ (measurement error) for each data point. For no particular reason, let's say $\\sigma_i^2 = (2 + x_i^2)/10$."
   ]
  },
  {
   "cell_type": "code",
   "execution_count": 2,
   "metadata": {},
   "outputs": [],
   "source": [
    "def variance(x):\n",
    "    return (2 + x**2)/10"
   ]
  },
  {
   "cell_type": "code",
   "execution_count": 3,
   "metadata": {},
   "outputs": [
    {
     "data": {
      "image/png": "[encoded data removed]",
      "text/plain": [
       "<Figure size 432x288 with 1 Axes>"
      ]
     },
     "metadata": {
      "needs_background": "light"
     },
     "output_type": "display_data"
    }
   ],
   "source": [
    "a, b = np.random.rand(2)*3\n",
    "N = 20\n",
    "xi = np.random.rand(N)\n",
    "yi = a + b*xi + np.random.randn(N)*np.sqrt(variance(xi))\n",
    "x = np.linspace(0, 1)\n",
    "plt.plot(x, a+b*x)\n",
    "plt.plot(xi, yi, 'ko')\n",
    "plt.show()"
   ]
  },
  {
   "cell_type": "markdown",
   "metadata": {},
   "source": [
    "Now that we have sample data, we can estimate $a$, $b$, $\\sigma_a$, $\\sigma_b$, $\\chi^2$, and $q$."
   ]
  },
  {
   "cell_type": "code",
   "execution_count": 4,
   "metadata": {},
   "outputs": [],
   "source": [
    "sig = np.sqrt(variance(xi))\n",
    "sx = np.sum(xi/sig**2)\n",
    "sy = np.sum(yi/sig**2)\n",
    "ss = np.sum(1./sig**2)\n",
    "ti = (xi - sx/ss)/sig\n",
    "st = np.sum(ti**2)\n",
    "samp_b = np.sum(ti*yi/sig)/st\n",
    "samp_a = (sy - sx*b)/ss\n",
    "sig_a = (1 + sx**2/(ss*st))/ss\n",
    "sig_b = 1/st\n",
    "chi2 = np.sum(((yi - a - b*xi)/sig)**2)\n",
    "q = gammq((N-2)/2, chi2/2)"
   ]
  },
  {
   "cell_type": "code",
   "execution_count": 5,
   "metadata": {},
   "outputs": [
    {
     "name": "stdout",
     "output_type": "stream",
     "text": [
      "$a = 1.47764$\n",
      "$b = 0.150924$\n",
      "$\\sigma_a^2 = 0.0321717$\n",
      "$\\sigma_b^2 = 0.113213$\n",
      "$\\chi^2 = 27.5835$\n",
      "$q = 0.0686831$\n"
     ]
    }
   ],
   "source": [
    "print(\n",
    "    '$a = {:g}$\\n$b = {:g}$\\n$\\sigma_a^2 = {:g}$\\n$\\sigma_b^2 = {:g}$\\n$\\chi^2 = {:g}$\\n$q = {:g}$'\n",
    "    .format(samp_a, samp_b, sig_a, sig_b, chi2, q))"
   ]
  },
  {
   "cell_type": "markdown",
   "metadata": {},
   "source": [
    "## Fitting the model average velocity distribution to random samples"
   ]
  },
  {
   "cell_type": "markdown",
   "metadata": {},
   "source": [
    "In the jump-velocity model, there is no independent variable that is being sampled experimentally. Instead, platelet rolling is some stochastic process that generates realizations of a random variable that depends on that process: the average velocity. There is some underlying distribution of the average rolling velocity that we hope is well approximated by our jump velocity model. One way to estimate parameters in the model from the data is to use a maximum-likelihood estimate, similar to the process described in section 15.1 of *Numerical Recipes*. \n",
    "\n",
    "For a set of measurements of average rolling velocity $\\{v_i\\}_{i=1}^N$, define the likelihood function $L(a, \\epsilon)$ to be the joint probability density of the sample data $f(v_1, v_2, ..., v_N; a, \\epsilon)$. For i.i.d. samples, $L(a, \\epsilon) = \\prod_{i=1}^N f(v_i; a, \\epsilon)$. Then the goal is to find the parameter values $a$ and $\\epsilon$ that maximize the likelihood function.\n",
    "\n",
    "It is more convenient to define $\\hat{\\ell} = \\log L$ and maximize $\\ell$ instead, so define $\\hat{\\ell}(a, \\epsilon) = \\log L(a, \\epsilon) = \\sum_{i=1}^N \\log f(v_i; a, \\epsilon)$. In the jump velocity model we have $f(v) = q_U(1, 1/v)/v^2$, so we substitute this into the log-likelihood: $\\hat{\\ell}(a, \\epsilon) = \\sum_{i=1}^N [\\log q_U(1, 1/v_i; a, \\epsilon) - 2\\log v_i]$. The second term in the sum is constant w.r.t. $a$ and $\\epsilon$, so it doesn't affect the optimization procedure and can be excluded. Therefore define $\\ell(a, \\epsilon) = \\sum_{i=1}^N \\log q_U(1, 1/v_i; a, \\epsilon)$ and we want to find $\\hat{a}$ and $\\hat{\\epsilon}$ which maximize $\\ell$."
   ]
  },
  {
   "cell_type": "markdown",
   "metadata": {},
   "source": [
    "### Simplest case: two states with adiabatic reduction"
   ]
  },
  {
   "cell_type": "markdown",
   "metadata": {},
   "source": [
    "As a first test case, assume that $\\epsilon << 1$ and use the adiabatic reduction to fit $a$ and $\\epsilon$. In this case, we can express $q_U$ analytically: $q_U(y, s) = \\frac{1}{\\sqrt{4\\pi\\epsilon a(1 - a)s}} \\left(a + \\frac{y - a s}{2s}\\right)\\exp\\left(\\frac{-(y - as)^2}{4\\epsilon a (1 - a) s}\\right)$."
   ]
  },
  {
   "cell_type": "markdown",
   "metadata": {},
   "source": [
    "First, choose a set of parameters:"
   ]
  },
  {
   "cell_type": "code",
   "execution_count": 6,
   "metadata": {},
   "outputs": [],
   "source": [
    "a, epsilon = .5, .1"
   ]
  },
  {
   "cell_type": "markdown",
   "metadata": {},
   "source": [
    "Then generate a bunch of sample data."
   ]
  },
  {
   "cell_type": "code",
   "execution_count": 7,
   "metadata": {},
   "outputs": [],
   "source": [
    "N = 1000\n",
    "rate_a = a/epsilon\n",
    "rate_b = (1 - a)/epsilon\n",
    "v_list = list()\n",
    "for _ in range(N):\n",
    "    while True:\n",
    "        v = experiment(rate_a, rate_b, 0, 0)\n",
    "        if v < 1: \n",
    "            break\n",
    "    v_list.append(v)"
   ]
  },
  {
   "cell_type": "code",
   "execution_count": 8,
   "metadata": {},
   "outputs": [
    {
     "data": {
      "image/png": "[encoded data removed]",
      "text/plain": [
       "<Figure size 432x288 with 1 Axes>"
      ]
     },
     "metadata": {
      "needs_background": "light"
     },
     "output_type": "display_data"
    }
   ],
   "source": [
    "plt.hist(v_list, density=True)\n",
    "plt.show()"
   ]
  },
  {
   "cell_type": "code",
   "execution_count": 9,
   "metadata": {},
   "outputs": [],
   "source": [
    "def q(y, s, a, eps):\n",
    "    return 1/np.sqrt(4*np.pi*eps*a*(1-a)*s)*(a + (y - a*s)/(2*s))*np.exp(-(y - a*s)**2/(4*eps*a*(1-a)*s))"
   ]
  },
  {
   "cell_type": "code",
   "execution_count": 10,
   "metadata": {},
   "outputs": [],
   "source": [
    "def adlnlikelihood(p, vectorized=False):\n",
    "    if vectorized:\n",
    "        v = np.array(v_list)[:, None, None]\n",
    "        s = p[0][None, :, None]\n",
    "        ap = np.select([s==0, s!=0], [0.5, (s - 1 + np.sqrt(s**2 + 1))/(2*s)])\n",
    "        epsp = np.exp(p[1][None, None, :])\n",
    "        return -np.sum(np.log(q(1, 1./v, ap, epsp)), axis=0)\n",
    "    else:\n",
    "        v = np.array(v_list)\n",
    "        s = p[0]\n",
    "        if s == 0:\n",
    "            ap = .5\n",
    "        else:\n",
    "            ap = (s - 1 + np.sqrt(s**2 + 1))/(2*s)\n",
    "        epsp = np.exp(p[1])\n",
    "        return -np.sum(np.log(q(1, 1./v, ap, epsp)))"
   ]
  },
  {
   "cell_type": "code",
   "execution_count": 11,
   "metadata": {},
   "outputs": [],
   "source": [
    "def lnlikelihood(p):\n",
    "    # Transform the parameters back to a and epsilon\n",
    "    s = p[0]\n",
    "    if s == 0:\n",
    "        ap = .5\n",
    "    else:\n",
    "        ap = (s - 1 + np.sqrt(s**2 + 1))/(2*s)\n",
    "    eps = np.exp(p[1])\n",
    "    \n",
    "    # Find the minimum sampled average velocity\n",
    "    v = np.array(v_list)\n",
    "    vmin = np.amin(v)\n",
    "    \n",
    "    N = 1000\n",
    "    h = 1./N\n",
    "    s_eval = (np.arange(0, np.ceil(1./(vmin*h))) + 1) * h\n",
    "    \n",
    "    # Define initial conditions for solve_pde\n",
    "    y = np.linspace(0, 1, num=N + 1)\n",
    "    u_init = delta_h(y[1:], h)\n",
    "    p0 = np.append(u_init, np.zeros(4 * N))\n",
    "    \n",
    "    u1_bdy = solve_pde(s_eval, p0, h, eps1=eps, eps2=np.inf, a=ap, b=1 - ap, c=1, d=0, scheme='up')[3]\n",
    "    q = np.interp(1. / v, s_eval, u1_bdy)\n",
    "    return -np.sum(np.log(q))"
   ]
  },
  {
   "cell_type": "markdown",
   "metadata": {},
   "source": [
    "As mentioned above, we want to find $a$ and $\\epsilon$ which maximize the log-likelihood function $\\ell(a, \\epsilon)$. We want to optimize within some finite domain in $a$ and $\\epsilon$, in particular $a \\in [0, 1]$ and $\\epsilon \\in (0, \\infty)$. We could use an optimization routine which optimizes with constraints, but I was encountering overflow issues when trying to use SciPy's optimizers with $a$ restricted to $[0, 1]$. I suspect this is because $\\ell \\rightarrow -\\infty$ quickly as $a \\rightarrow \\text{0 or 1}$.\n",
    "\n",
    "In addition, if $\\epsilon << 1$, the optimization error may be of the same order as $\\epsilon$ itself. We may be more interested in an order-of-magnitude estimate of $\\epsilon$ than its precise value.\n",
    "\n",
    "Therefore I transform each of the parameters $\\tilde{a} = \\frac{2a - 1}{2a(1-a)}$ and $\\tilde{\\epsilon} = \\log\\epsilon$ and optimize $\\tilde{\\ell}(\\tilde{a}, \\tilde{\\epsilon})$. Now we can use unconstrained optimization, and we have eliminated issues at the boundaries $a = 0$, $a = 1$, and $\\epsilon = 0$.\n",
    "\n",
    "The reverse transformations are given by $\\epsilon = \\exp(\\tilde{\\epsilon})$ and $a = \\frac{\\tilde{a} - 1 + \\sqrt{\\tilde{a}^2 + 1}}{2\\tilde{a}}$."
   ]
  },
  {
   "cell_type": "markdown",
   "metadata": {},
   "source": [
    "Another issue is that of the initial guess in the optimizer. Because we need to solve a PDE at every parameter update in the optimizer, it helps to have a good initial guess. One possibility is to use the adiabatic reduction to estimate $a$ and $\\epsilon$ first, and use the result of that as the initial guess in the full optimizer.\n",
    "\n",
    "However, this doesn't remove the issue of needing an initial guess, because an iterative optimization routine is still finding the MLE for $a$ and $\\epsilon$ in the adiabatic reduction. Therefore, I try using the mean of $v$ and the standard deviation of $v$ to generate a guess for the starting values of $a$ and $\\epsilon$."
   ]
  },
  {
   "cell_type": "code",
   "execution_count": 12,
   "metadata": {},
   "outputs": [],
   "source": [
    "a0 = np.mean(v_list)\n",
    "e0 = np.std(v_list)\n",
    "s0 = (2*a0 - 1)/(2*a0*(1-a0))\n",
    "le0 = np.log(e0)"
   ]
  },
  {
   "cell_type": "code",
   "execution_count": 13,
   "metadata": {},
   "outputs": [],
   "source": [
    "sol = minimize(adlnlikelihood, np.array([s0, le0]))"
   ]
  },
  {
   "cell_type": "code",
   "execution_count": 14,
   "metadata": {},
   "outputs": [
    {
     "data": {
      "text/plain": [
       "array([ 0.07088857, -2.28657627])"
      ]
     },
     "execution_count": 14,
     "metadata": {},
     "output_type": "execute_result"
    }
   ],
   "source": [
    "sol.x"
   ]
  },
  {
   "cell_type": "code",
   "execution_count": 15,
   "metadata": {},
   "outputs": [
    {
     "data": {
      "text/plain": [
       "-2.3025850929940455"
      ]
     },
     "execution_count": 15,
     "metadata": {},
     "output_type": "execute_result"
    }
   ],
   "source": [
    "np.log(.1)"
   ]
  },
  {
   "cell_type": "code",
   "execution_count": 23,
   "metadata": {},
   "outputs": [
    {
     "data": {
      "text/plain": [
       "903.4479279249623"
      ]
     },
     "execution_count": 23,
     "metadata": {},
     "output_type": "execute_result"
    }
   ],
   "source": [
    "adlnlikelihood(sol.x)"
   ]
  },
  {
   "cell_type": "code",
   "execution_count": 24,
   "metadata": {},
   "outputs": [
    {
     "data": {
      "text/plain": [
       "1594.2024343912542"
      ]
     },
     "execution_count": 24,
     "metadata": {},
     "output_type": "execute_result"
    }
   ],
   "source": [
    "lnlikelihood(sol.x)"
   ]
  },
  {
   "cell_type": "code",
   "execution_count": 18,
   "metadata": {},
   "outputs": [
    {
     "name": "stdout",
     "output_type": "stream",
     "text": [
      "947 ms ± 58 ms per loop (mean ± std. dev. of 7 runs, 1 loop each)\n"
     ]
    }
   ],
   "source": [
    "%timeit lnlikelihood(sol.x)"
   ]
  },
  {
   "cell_type": "code",
   "execution_count": 19,
   "metadata": {},
   "outputs": [],
   "source": [
    "e0 = np.std(v_list)**2/(2*a0*(1-a0))"
   ]
  },
  {
   "cell_type": "code",
   "execution_count": 20,
   "metadata": {},
   "outputs": [
    {
     "data": {
      "text/plain": [
       "0.05589964363371291"
      ]
     },
     "execution_count": 20,
     "metadata": {},
     "output_type": "execute_result"
    }
   ],
   "source": [
    "e0"
   ]
  },
  {
   "cell_type": "code",
   "execution_count": 21,
   "metadata": {},
   "outputs": [
    {
     "data": {
      "text/plain": [
       "-2.884197273909152"
      ]
     },
     "execution_count": 21,
     "metadata": {},
     "output_type": "execute_result"
    }
   ],
   "source": [
    "np.log(e0)"
   ]
  },
  {
   "cell_type": "code",
   "execution_count": 22,
   "metadata": {},
   "outputs": [
    {
     "data": {
      "text/plain": [
       "0.1736224173504607"
      ]
     },
     "execution_count": 22,
     "metadata": {},
     "output_type": "execute_result"
    }
   ],
   "source": [
    "s0"
   ]
  },
  {
   "cell_type": "code",
   "execution_count": null,
   "metadata": {},
   "outputs": [],
   "source": []
  }
 ],
 "metadata": {
  "kernelspec": {
   "display_name": "Python 3",
   "language": "python",
   "name": "python3"
  },
  "language_info": {
   "codemirror_mode": {
    "name": "ipython",
    "version": 3
   },
   "file_extension": ".py",
   "mimetype": "text/x-python",
   "name": "python",
   "nbconvert_exporter": "python",
   "pygments_lexer": "ipython3",
   "version": "3.7.2"
  }
 },
 "nbformat": 4,
 "nbformat_minor": 2
}
