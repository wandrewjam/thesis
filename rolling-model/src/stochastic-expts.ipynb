{
 "cells": [
  {
   "cell_type": "code",
   "execution_count": 1,
   "metadata": {},
   "outputs": [],
   "source": [
    "import numpy as np\n",
    "import matplotlib.pyplot as plt\n",
    "from scipy.integrate import odeint"
   ]
  },
  {
   "cell_type": "markdown",
   "metadata": {},
   "source": [
    "# Notes on \"A modified next reaction method ...\" for time-dependent rates"
   ]
  },
  {
   "cell_type": "markdown",
   "metadata": {},
   "source": [
    "The goal of these notes is to explain Anderson's (2007) derivation of a stochastic simulation algorithm for a chemical system with reaction rates that depend explicitly on time. His method generalizes the next reaction method, which itself is an alternative to the Gillespie algorithm for simulating chemical systems with time-autonomous reaction rates. First, I will describe the Gillespie and next reaction methods for time-autonomous reaction rates, and second I will describe Anderson's generalization of the next reaction method for nonautonomous rates."
   ]
  },
  {
   "cell_type": "markdown",
   "metadata": {},
   "source": [
    "## Time-autonomous chemical systems\n",
    "\n",
    "The traditional Gillespie algorithm simulates chemical systems with autonomous rates $a_k(X(t))$ which only depend on the current state of the system $X(t)$. One of the fundamental assumptions is that for each reaction $k$:\n",
    "$$a_k(X(t))\\Delta t + \\mathcal{o}(\\Delta t) = \\text{the probability that reaction $k$ takes place in a small time interval $[t, t + \\Delta t)$.}$$\n",
    "\n",
    "Therefore the next firing time of each reaction is exponentially distributed with rate $a_k(X(t))$. The Gillespie algorithm proceeds by generating two random numbers for each time step. One random number is used to find the time that it takes for *something* to happen, and the second random number chooses *which* reaction happened based on the rates of each reaction. \n",
    "\n",
    "### Next reaction method\n",
    "\n",
    "In the Gillespie algorithm, two random numbers must be generated at each time step, and the number of random numbers that must be generated is independent of the number of possible reactions. For chemical systems where the number of time steps is large relative to the number of possible reactions, the next reaction method improves on the Gillespie algorithm in that fewer random numbers are required to advance the simulation. However the feature that is most relevant for these notes is that the next reaction method is more easily generalized to the case where reaction rates are explicitly dependent on time. \n",
    "\n",
    "For the next reaction method, we represent the reaction times of each individual reaction as the firing times of Poisson processes. Let $R_k(t)$ be the number of times the $k$th reaction has occurred before time $t$. $R_k(t)$ can be represented as a Poisson process with a nondimensional firing rate related to the reaction rate. Specifically, if we define $k$ independent Poisson processes with unit firing rate: $Y_k(\\tau)$, then\n",
    "$$R_k(t) = Y_k\\left(\\int_0^t a_k(X(s)) ds \\right).$$\n",
    "\n",
    "Anderson defines the *internal time* of reaction $k$ as $T_k(t)$:\n",
    "$$T_k(t) \\equiv \\int_0^t a_k(X(s)) ds.$$\n",
    "The internal time is a nondimensional quantity that scales time in the $k$th Poisson process based on the reaction rate $a_k(X(t))$. \n",
    "\n",
    "The idea of the next reaction method is to calculate the firing times of each Poisson process independently, and then to find the minimum firing time. The system is updated based on which reaction fired, and the internal times of each reaction are updated appropriately. All of the firing times of the other reactions are saved, and a new firing time is generated only for the reaction which fired. \n",
    "\n",
    "More explicitly, define $P_k$ to be the first firing time of $Y_k$ (in the time scale of $Y_k$) after $T_k(t)$:\n",
    "$$P_k(t) = \\min\\{s > T_k(t) \\mid Y_k(s) > Y_k(T_k(t)) \\}.$$\n",
    "Then from the definition of $T_k(t)$ the absolute time required for reaction $k$ to fire $\\Delta t_k$ is given by\n",
    "$$\\int_t^{t + \\Delta t_k} a_k(X(s)) ds = P_k - T_k.$$\n",
    "\n",
    "Assuming $X(s)$ is constant in $[t, t + \\Delta t_k)$, then so is $a_k$ (as long as $a_k$ doesn't explicitly depend on time) and $\\Delta t_k = (P_k - T_k)/a_k$. This gives us the following algorithm for the next reaction method for autonomous reaction rates:\n",
    "1. Initialize chemical species, set $t=0$, and $T_k = 0$ for each $k$\n",
    "2. Calculate $a_k$ for each reaction.\n",
    "3. Generate $M$ independent, uniform random numbers $r_k$.\n",
    "4. For each $k$, set $P_k = \\log(1/r_k)$ (find the internal firing times of each reaction)\n",
    "5. For each $k$, set $\\Delta t_k = (P_k - T_k)/a_k$ (convert the internal firing times to absolute firing times)\n",
    "6. Set $\\Delta = \\min_k \\{\\Delta t_k\\}$ and $\\mu = \\operatorname{argmin}_k \\{\\Delta t_k\\}$\n",
    "7. Set $t = t + \\Delta$ and update the number of molecular species associated with reaction $\\mu$\n",
    "8. For each $k$, set $T_k = T_k + a_k \\Delta$ (advance the internal times)\n",
    "9. For reaction $\\mu$, choose a new random number $r$ and set $P_\\mu = P_\\mu + \\log(1/r)$\n",
    "10. Recalculate the reaction rates $a_k$\n",
    "11. Go to 5.\n",
    "\n",
    "In the code below, I simulate a simple enzymatic reaction $\\mathrm{A} + \\mathrm{B} \\rightleftharpoons \\mathrm{C} \\rightarrow \\mathrm{B} + \\mathrm{P}$ with rates $k^+ = 1$, $k^- = 5$, and $k^\\text{cat} = 5$ using the Gillespie and next reaction methods and compare the results with the solution of the ODE reaction rate equation. This chemical system gives the following set of ODEs:\n",
    "\\begin{align}\n",
    "\\frac{da}{dt} &= -k^+ ab + k^- c \\\\\n",
    "\\frac{db}{dt} &= -k^+ ab + (k^- + k^\\text{cat}) c \\\\\n",
    "\\frac{dc}{dt} &= k^+ ab - (k^- + k^\\text{cat}) c\n",
    "\\end{align}\n",
    "and the following set of propensity functions $a_k(X(t))$:\n",
    "\\begin{align}\n",
    "a_1 &= k^+ ab \\\\\n",
    "a_2 &= k^- c \\\\\n",
    "a_3 &= k^\\text{cat} c.\n",
    "\\end{align}"
   ]
  },
  {
   "cell_type": "code",
   "execution_count": 87,
   "metadata": {},
   "outputs": [],
   "source": [
    "T = 5\n",
    "kp, km, kcat = 1, 5, 5"
   ]
  },
  {
   "cell_type": "code",
   "execution_count": 88,
   "metadata": {},
   "outputs": [],
   "source": [
    "def gillespie(y0):\n",
    "    a0, c0, b0 = y0\n",
    "    \n",
    "    a, b, c = np.array([a0]), np.array([b0]), np.array([c0])\n",
    "    t = np.array([0])\n",
    "    while t[-1] < T:\n",
    "        r = np.random.rand(2)\n",
    "        rates = np.array([kp*a[-1]*b[-1], km*c[-1], kcat*c[-1]])\n",
    "        cum_rates = np.cumsum(rates, dtype='float64')\n",
    "        \n",
    "        if cum_rates[-1] == 0:\n",
    "            break\n",
    "        \n",
    "        dt = 1/cum_rates[-1]*np.log(1/r[0])\n",
    "        j = np.searchsorted(cum_rates, r[1]*cum_rates[-1])\n",
    "        t = np.append(t, t[-1] + dt)\n",
    "        if j == 0:\n",
    "            a = np.append(a, a[-1] - 1)\n",
    "            b = np.append(b, b[-1] - 1)\n",
    "            c = np.append(c, c[-1] + 1)\n",
    "        elif j == 1:\n",
    "            a = np.append(a, a[-1] + 1)\n",
    "            b = np.append(b, b[-1] + 1)\n",
    "            c = np.append(c, c[-1] - 1)\n",
    "        elif j == 2:\n",
    "            a = np.append(a, a[-1])\n",
    "            b = np.append(b, b[-1] + 1)\n",
    "            c = np.append(c, c[-1] - 1)\n",
    "    return np.array([a, c, b]), t"
   ]
  },
  {
   "cell_type": "code",
   "execution_count": 89,
   "metadata": {},
   "outputs": [],
   "source": [
    "def dy(y, t):\n",
    "    a, c, b = y\n",
    "    \n",
    "    da = km*c - kp*a*b\n",
    "    dc = kp*a*b - (km+kcat)*c\n",
    "    db = (km+kcat)*c - kp*a*b\n",
    "    \n",
    "    return np.array([da, dc, db])"
   ]
  },
  {
   "cell_type": "code",
   "execution_count": 90,
   "metadata": {},
   "outputs": [],
   "source": [
    "def next_rxn(y0):\n",
    "    a0, c0, b0 = y0\n",
    "    \n",
    "    a, b, c = np.array([a0]), np.array([b0]), np.array([c0])\n",
    "    t = np.array([0])\n",
    "    Tk = np.zeros(shape=3)\n",
    "    \n",
    "    rates = np.array([kp*a0*b0, km*c0, kcat*c0])\n",
    "    del_t = np.zeros(shape=3)\n",
    "    r = np.random.rand(3)\n",
    "    P = np.log(1/r)\n",
    "\n",
    "    while t[-1] < T:\n",
    "        del_t[rates > 0] = (P - Tk)[rates > 0]/rates[rates > 0]\n",
    "        del_t[rates==0] = np.inf\n",
    "        j = np.argmin(del_t)\n",
    "        delta = del_t[j]\n",
    "        \n",
    "        if delta == np.inf:\n",
    "            break\n",
    "        \n",
    "        t = np.append(t, t[-1] + delta)\n",
    "        if j == 0:\n",
    "            a = np.append(a, a[-1] - 1)\n",
    "            b = np.append(b, b[-1] - 1)\n",
    "            c = np.append(c, c[-1] + 1)\n",
    "        elif j == 1:\n",
    "            a = np.append(a, a[-1] + 1)\n",
    "            b = np.append(b, b[-1] + 1)\n",
    "            c = np.append(c, c[-1] - 1)\n",
    "        elif j == 2:\n",
    "            a = np.append(a, a[-1])\n",
    "            b = np.append(b, b[-1] + 1)\n",
    "            c = np.append(c, c[-1] - 1)\n",
    "        \n",
    "        Tk += rates*delta\n",
    "        P[j] += np.log(1/np.random.rand())\n",
    "        rates = np.array([kp*a[-1]*b[-1], km*c[-1], kcat*c[-1]])\n",
    "    \n",
    "    return np.array([a, c, b]), t"
   ]
  },
  {
   "cell_type": "code",
   "execution_count": 91,
   "metadata": {},
   "outputs": [],
   "source": [
    "y0 = np.array([50, 0, 10], dtype='float64')\n",
    "t_ode = np.linspace(0, T, num=500)"
   ]
  },
  {
   "cell_type": "code",
   "execution_count": 92,
   "metadata": {},
   "outputs": [],
   "source": [
    "y_ssa, t_ssa = gillespie(y0)\n",
    "y_nr, t_nr = next_rxn(y0)"
   ]
  },
  {
   "cell_type": "code",
   "execution_count": 93,
   "metadata": {},
   "outputs": [],
   "source": [
    "sol = odeint(dy, y0, t_ode)"
   ]
  },
  {
   "cell_type": "code",
   "execution_count": 94,
   "metadata": {},
   "outputs": [
    {
     "data": {
      "image/png": "[encoded data removed]",
      "text/plain": [
       "<Figure size 432x288 with 1 Axes>"
      ]
     },
     "metadata": {
      "needs_background": "light"
     },
     "output_type": "display_data"
    }
   ],
   "source": [
    "plt.plot(t_ode, sol[:,0])\n",
    "plt.step(t_nr, y_nr[0], where='post')\n",
    "plt.step(t_ssa, y_ssa[0], where='post')\n",
    "plt.legend(['ODE', 'Next reaction', 'Gillespie'])\n",
    "plt.xlabel('Time')\n",
    "plt.ylabel('Number of molecules')\n",
    "plt.title('Simulated number of A molecules')\n",
    "plt.show()"
   ]
  },
  {
   "cell_type": "code",
   "execution_count": 95,
   "metadata": {},
   "outputs": [
    {
     "data": {
      "image/png": "[encoded data removed]",
      "text/plain": [
       "<Figure size 432x288 with 1 Axes>"
      ]
     },
     "metadata": {
      "needs_background": "light"
     },
     "output_type": "display_data"
    }
   ],
   "source": [
    "plt.plot(t_ode, sol[:,2])\n",
    "plt.step(t_nr, y_nr[2], where='post')\n",
    "plt.step(t_ssa, y_ssa[2], where='post')\n",
    "plt.legend(['ODE', 'Next reaction', 'Gillespie'])\n",
    "plt.xlabel('Time')\n",
    "plt.ylabel('Number of molecules')\n",
    "plt.title('Simulated number of B molecules')\n",
    "plt.show()"
   ]
  },
  {
   "cell_type": "markdown",
   "metadata": {},
   "source": [
    "## Time-dependent reaction rates\n",
    "\n",
    "If we now assume that the reaction rates can change explicitly as a function of time (that is $a_k = a_k(X(t), t)$), we can apply the next reaction method described above to this new case in a fairly straightforward way. $P_k$ and $T_k$ are defined in the same way as above, the only difference is that now $T_k$ is not necessarily a piecewise linear function of the absolute time $t$. \n",
    "\n",
    "In the algorithm described above, only steps 5 and 8 change. In step 5 to find the absolute firing times of each reaction $\\Delta t_k$, we must now solve\n",
    "$$\\int_t^{t + \\Delta t_k} a_k(X(t), s) ds = P_k - T_k.$$\n",
    "In step 8 to advance each internal clock, we now have to set \n",
    "$$T_k = T_k + \\int_t^{t + \\Delta} a_k(X(t), s) ds.$$\n",
    "\n",
    "The code below simulates the same chemical system as above, but with exponentially decreasing reaction rates. That is, $k^+(t) = k^+_0 \\exp(-Rt)$ and similarly for the other reaction rates. As $R \\rightarrow 0$, this system approaches the system above with constant reaction rates."
   ]
  },
  {
   "cell_type": "code",
   "execution_count": 96,
   "metadata": {},
   "outputs": [],
   "source": [
    "R = .9"
   ]
  },
  {
   "cell_type": "code",
   "execution_count": 97,
   "metadata": {},
   "outputs": [],
   "source": [
    "def dyvar(y, t):\n",
    "    a, c, b = y\n",
    "    \n",
    "    da = km*np.exp(-R*t)*c - kp*np.exp(-R*t)*a*b\n",
    "    dc = kp*np.exp(-R*t)*a*b - (km + kcat)*np.exp(-R*t)*c\n",
    "    db = (km + kcat)*np.exp(-R*t)*c - kp*np.exp(-R*t)*a*b\n",
    "    \n",
    "    return np.array([da, dc, db])"
   ]
  },
  {
   "cell_type": "code",
   "execution_count": 98,
   "metadata": {},
   "outputs": [],
   "source": [
    "def nrvar(y0):\n",
    "    a0, c0, b0 = y0\n",
    "    \n",
    "    a, b, c = np.array([a0]), np.array([b0]), np.array([c0])\n",
    "    t = np.array([0])\n",
    "    Tk = np.zeros(shape=3)\n",
    "    \n",
    "    rates = np.array([kp*a0*b0, km*c0, kcat*c0])\n",
    "    del_t = np.zeros(shape=3)\n",
    "    r = np.random.rand(3)\n",
    "    P = np.log(1/r)\n",
    "\n",
    "    while t[-1] < T:\n",
    "        valid_indices = (P - Tk)*R < rates\n",
    "        del_t[:] = np.inf\n",
    "        del_t[valid_indices] = -1/R*np.log(1 - R*(P - Tk)[valid_indices]/(rates[valid_indices]))\n",
    "        \n",
    "        j = np.argmin(del_t)\n",
    "        delta = del_t[j]\n",
    "        \n",
    "        if delta == np.inf:\n",
    "            break\n",
    "        \n",
    "        t = np.append(t, t[-1] + delta)\n",
    "        if j == 0:\n",
    "            a = np.append(a, a[-1] - 1)\n",
    "            b = np.append(b, b[-1] - 1)\n",
    "            c = np.append(c, c[-1] + 1)\n",
    "        elif j == 1:\n",
    "            a = np.append(a, a[-1] + 1)\n",
    "            b = np.append(b, b[-1] + 1)\n",
    "            c = np.append(c, c[-1] - 1)\n",
    "        elif j == 2:\n",
    "            a = np.append(a, a[-1])\n",
    "            b = np.append(b, b[-1] + 1)\n",
    "            c = np.append(c, c[-1] - 1)\n",
    "        \n",
    "        Tk += rates/R*(np.exp(-R*t[-2]) - np.exp(-R*t[-1]))\n",
    "        P[j] += np.log(1/np.random.rand())\n",
    "        rates = np.array([kp*a[-1]*b[-1], km*c[-1], kcat*c[-1]])\n",
    "    \n",
    "    return np.array([a, c, b]), t"
   ]
  },
  {
   "cell_type": "code",
   "execution_count": 114,
   "metadata": {},
   "outputs": [],
   "source": [
    "y_nrv, t_nrv = nrvar(y0)\n",
    "sol = odeint(dyvar, y0, t_ode)"
   ]
  },
  {
   "cell_type": "code",
   "execution_count": 115,
   "metadata": {},
   "outputs": [
    {
     "data": {
      "image/png": "[encoded data removed]",
      "text/plain": [
       "<Figure size 432x288 with 1 Axes>"
      ]
     },
     "metadata": {
      "needs_background": "light"
     },
     "output_type": "display_data"
    }
   ],
   "source": [
    "plt.plot(t_ode, sol[:,0])\n",
    "plt.step(t_nrv, y_nrv[0], where='post')\n",
    "plt.legend(['ODE', 'Next reaction'])\n",
    "plt.xlabel('Time')\n",
    "plt.ylabel('Number of molecules')\n",
    "plt.title('Simulated number of A molecules')\n",
    "plt.show()"
   ]
  },
  {
   "cell_type": "code",
   "execution_count": 116,
   "metadata": {},
   "outputs": [
    {
     "data": {
      "image/png": "[encoded data removed]",
      "text/plain": [
       "<Figure size 432x288 with 1 Axes>"
      ]
     },
     "metadata": {
      "needs_background": "light"
     },
     "output_type": "display_data"
    }
   ],
   "source": [
    "plt.plot(t_ode, sol[:,2])\n",
    "plt.step(t_nrv, y_nrv[2], where='post')\n",
    "plt.legend(['ODE', 'Next reaction'])\n",
    "plt.xlabel('Time')\n",
    "plt.ylabel('Number of molecules')\n",
    "plt.title('Simulated number of B molecules')\n",
    "plt.show()"
   ]
  },
  {
   "cell_type": "code",
   "execution_count": null,
   "metadata": {},
   "outputs": [],
   "source": []
  }
 ],
 "metadata": {
  "kernelspec": {
   "display_name": "Python 2",
   "language": "python",
   "name": "python2"
  },
  "language_info": {
   "codemirror_mode": {
    "name": "ipython",
    "version": 2
   },
   "file_extension": ".py",
   "mimetype": "text/x-python",
   "name": "python",
   "nbconvert_exporter": "python",
   "pygments_lexer": "ipython2",
   "version": "2.7.15"
  }
 },
 "nbformat": 4,
 "nbformat_minor": 2
}
