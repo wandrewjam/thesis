{
 "cells": [
  {
   "cell_type": "code",
   "execution_count": 1,
   "metadata": {},
   "outputs": [],
   "source": [
    "import numpy as np\n",
    "import matplotlib.pyplot as plt\n",
    "from scipy.integrate import solve_ivp"
   ]
  },
  {
   "cell_type": "markdown",
   "metadata": {},
   "source": [
    "# Solving the rolling-only bifurcation problem"
   ]
  },
  {
   "cell_type": "markdown",
   "metadata": {},
   "source": [
    "To simplify the platelet rolling model, assume that $d = 0$ and $V = R \\Omega$. That is, no slip is allowed between the platelet surface and the wall. Then the bond density ($n$) evolution equation simplifies to $$\\frac{\\partial n}{\\partial t} = V \\frac{\\partial n}{\\partial x} + \\frac{V}{R} \\frac{\\partial n}{\\partial \\theta} + \\alpha(x, \\theta) \\left(1 - \\int_{-\\infty}^\\infty n(x, \\theta) dx \\right) - \\beta(x, \\theta) n.$$\n",
    "\n",
    "We are looking to find steady state rolling velocities and bond distributions as a function of the applied rolling velocity $V_f$, so set $\\frac{\\partial n}{\\partial t} = 0$:\n",
    "$$0 = V \\frac{\\partial n}{\\partial x} + \\frac{V}{R} \\frac{\\partial n}{\\partial \\theta} + \\alpha(x, \\theta) \\left(1 - \\int_{-\\infty}^\\infty n(x, \\theta) dx \\right) - \\beta(x, \\theta) n.$$\n",
    "\n",
    "We can write evolution equations for the coordinates $x$ and $\\theta$ using the rolling velocities: $$\\frac{dx}{dt} = -V \\text{ and } \\frac{d\\theta}{dt} = -\\Omega = -V/R.$$ \n",
    "\n",
    "Therefore, $x(t) = -Vt + x_0$ and $\\theta(t) = -Vt/R + \\theta_0$, then eliminating $t$ we get $\\theta(x) = x/R + \\theta_0 - x_0/R$. Let's say we can define a density function $\\hat{n}$ that only varies as a function of $x$: $\\hat{n}(x) = n(x, \\theta(x))$. Then note what happens when we take a derivative of $\\hat{n}$:\n",
    "$$\\frac{d\\hat{n}}{dx} = \\frac{\\partial n}{\\partial x} + \\frac{\\partial n}{\\partial \\theta} \\frac{d \\theta}{d x} = \\frac{\\partial n}{\\partial x} + \\frac{1}{R}\\frac{\\partial n}{\\partial \\theta}.$$\n",
    "\n",
    "Multiplying through by $-V$, we get the following:\n",
    "$$-V\\frac{d\\hat{n}}{dx} = -V \\frac{\\partial n}{\\partial x} - \\frac{V}{R} \\frac{\\partial n}{\\partial \\theta} = \\alpha(x, \\theta(x)) \\left(1 - \\int_{-\\infty}^{\\infty} n(x, \\theta(x)) dx \\right) - \\beta(x, \\theta(x)) n $$ $$= \\alpha(x, \\theta(x)) \\left(1 - \\int_{-\\infty}^{\\infty} \\hat{n}(x) dx \\right) - \\beta(x, \\theta(x)) \\hat{n}.$$\n",
    "\n",
    "If you believe the work above, we have simplified an integro-differential equation in two variables to an IDE in one variable."
   ]
  },
  {
   "cell_type": "markdown",
   "metadata": {},
   "source": [
    "## Solving the IDE for $\\hat{n}$"
   ]
  },
  {
   "cell_type": "markdown",
   "metadata": {},
   "source": [
    "From above, we have\n",
    "$$-V\\frac{d\\hat{n}}{dx} = \\hat{\\alpha}(x) \\left(1 - \\int_{-\\infty}^{\\infty} \\hat{n}(x) dx \\right) - \\hat{\\beta}(x) \\hat{n}.$$\n",
    "\n",
    "This can be solved with the following procedure:\n",
    "1. Pick a value $I \\in [0, 1)$\n",
    "2. Solve the ODE $-V\\frac{dn'}{dx} = \\hat{\\alpha}(x) \\left(1 - I\\right) - \\hat{\\beta}(x) n'$\n",
    "3. Define $I' = \\int_{-\\infty}^{\\infty} n'(x) dx$\n",
    "4. Then $\\hat{n}(x) = n'(x)/(1 - I + I')$\n",
    "\n",
    "To see that $\\hat{n}(x)$ solves the IDE, substitute $n'(x)/(1 - I + I')$ into the IDE above:\n",
    "$$-V \\frac{d\\hat{n}}{dx} = -\\frac{V}{1 - I + I'}\\frac{dn'(x)}{dx} = \\frac{\\hat{\\alpha}}{1 - I + I'}(1 - I) - \\hat{\\beta}\\frac{n'}{1 - I + I'}.$$\n",
    "\n",
    "Clearly the 2nd term on the RHS is just $\\hat{\\beta}(x) \\hat{n}$. The 1st term on the RHS simplifies to $\\hat{\\alpha} \\left(1 - \\frac{I'}{1 - I + I'}\\right)$. Note that from the definition of $I'$, $\\frac{I'}{1 - I + I'} = \\int_{-\\infty}^{\\infty} \\hat{n}(z) dz$. Therefore $\\hat{n}(x)$ solves the IDE.\n",
    "\n",
    "The Python code below solves the IDE and plots the result using this procedure using $I = 0$."
   ]
  },
  {
   "cell_type": "code",
   "execution_count": 2,
   "metadata": {},
   "outputs": [],
   "source": [
    "# Define parameters in the problem\n",
    "L = 5\n",
    "R = 1\n",
    "I = 0\n",
    "V = 5"
   ]
  },
  {
   "cell_type": "code",
   "execution_count": 3,
   "metadata": {},
   "outputs": [],
   "source": [
    "def alpha(x):\n",
    "    # Evaluates the on-rate\n",
    "    kon0 = 10\n",
    "    eta = 100\n",
    "    return kon0*np.exp(-eta/2*((1 - np.cos(x/R))**2 + (np.sin(x/R) - x)**2))\n",
    "\n",
    "def beta(x):\n",
    "    # Evaluates the off-rate\n",
    "    return np.exp(np.sqrt((1 - np.cos(x/R))**2 + (np.sin(x/R) - x)**2))\n",
    "\n",
    "def fun(x, n):\n",
    "    return -(alpha(x) - beta(x)*n)/V"
   ]
  },
  {
   "cell_type": "code",
   "execution_count": 4,
   "metadata": {},
   "outputs": [],
   "source": [
    "steps = 1e5\n",
    "x_lin = np.linspace(L, -L, num=500)\n",
    "n_prime = solve_ivp(fun, (L, -L), [0], t_eval=x_lin)"
   ]
  },
  {
   "cell_type": "markdown",
   "metadata": {},
   "source": [
    "The plot below shows the function $n'(x)$."
   ]
  },
  {
   "cell_type": "code",
   "execution_count": 5,
   "metadata": {},
   "outputs": [
    {
     "data": {
      "image/png": "[encoded data removed]",
      "text/plain": [
       "<Figure size 432x288 with 1 Axes>"
      ]
     },
     "metadata": {
      "needs_background": "light"
     },
     "output_type": "display_data"
    }
   ],
   "source": [
    "plt.plot(n_prime.t, n_prime.y.T)\n",
    "plt.xlabel('$x$')\n",
    "plt.ylabel('$n\\'(x)$')\n",
    "plt.show()"
   ]
  },
  {
   "cell_type": "markdown",
   "metadata": {},
   "source": [
    "Next, we integrate $n'(x)$ to find $I'$:"
   ]
  },
  {
   "cell_type": "code",
   "execution_count": 6,
   "metadata": {},
   "outputs": [
    {
     "name": "stdout",
     "output_type": "stream",
     "text": [
      "[3.28941586]\n"
     ]
    }
   ],
   "source": [
    "I_prime = -np.trapz(n_prime.y, n_prime.t) # The negative sign is necessary \n",
    "                                # because n_prime.t is in decreasing order\n",
    "print(I_prime)"
   ]
  },
  {
   "cell_type": "markdown",
   "metadata": {},
   "source": [
    "Finally, $\\hat{n}$ is found by dividing $n'$ by $1 + I'$:"
   ]
  },
  {
   "cell_type": "code",
   "execution_count": 7,
   "metadata": {},
   "outputs": [
    {
     "data": {
      "image/png": "[encoded data removed]",
      "text/plain": [
       "<Figure size 432x288 with 1 Axes>"
      ]
     },
     "metadata": {
      "needs_background": "light"
     },
     "output_type": "display_data"
    }
   ],
   "source": [
    "n_hat = n_prime.y.T/(1 + I_prime)\n",
    "plt.plot(x_lin, n_hat)\n",
    "plt.xlabel('$x$')\n",
    "plt.ylabel('$\\\\hat{n}(x)$')\n",
    "plt.show()"
   ]
  },
  {
   "cell_type": "markdown",
   "metadata": {},
   "source": [
    "We can check that $\\hat{n}$ satisfies the original IDE:"
   ]
  },
  {
   "cell_type": "code",
   "execution_count": 8,
   "metadata": {},
   "outputs": [
    {
     "data": {
      "image/png": "[encoded data removed]",
      "text/plain": [
       "<Figure size 432x288 with 1 Axes>"
      ]
     },
     "metadata": {
      "needs_background": "light"
     },
     "output_type": "display_data"
    },
    {
     "name": "stdout",
     "output_type": "stream",
     "text": [
      "The maximum absolute error is 0.117194\n"
     ]
    }
   ],
   "source": [
    "dn_hat = (n_hat[2:] - n_hat[:-2]).T/(x_lin[2:] - x_lin[:-2])\n",
    "I_hat = -np.trapz(n_hat.T, x_lin)\n",
    "error = V*dn_hat + (alpha(x_lin[1:-1])*(1 - I_hat)\n",
    "                    - beta(x_lin[1:-1])*n_hat[1:-1].T)\n",
    "plt.plot(x_lin[1:-1], -V*dn_hat.T,\n",
    "         x_lin[1:-1], (alpha(x_lin[1:-1])*(1 - I_hat)\n",
    "                       - beta(x_lin[1:-1])*n_hat[1:-1].T).T,\n",
    "         '--')\n",
    "plt.xlabel('$x$')\n",
    "plt.legend(['LHS', 'RHS'])\n",
    "plt.show()\n",
    "print('The maximum absolute error is {:g}'.format(np.max(error)))"
   ]
  }
 ],
 "metadata": {
  "kernelspec": {
   "display_name": "Python 3",
   "language": "python",
   "name": "python3"
  },
  "language_info": {
   "codemirror_mode": {
    "name": "ipython",
    "version": 3
   },
   "file_extension": ".py",
   "mimetype": "text/x-python",
   "name": "python",
   "nbconvert_exporter": "python",
   "pygments_lexer": "ipython3",
   "version": "3.7.1"
  }
 },
 "nbformat": 4,
 "nbformat_minor": 2
}
